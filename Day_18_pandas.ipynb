{
 "cells": [
  {
   "cell_type": "code",
   "execution_count": 1,
   "id": "6a6f7b5e",
   "metadata": {},
   "outputs": [],
   "source": [
    "import pandas as pd"
   ]
  },
  {
   "cell_type": "markdown",
   "id": "e493bfb1",
   "metadata": {},
   "source": [
    "Learned from: Corey Schafer\n",
    "https://www.youtube.com/playlist?list=PL-osiE80TeTsWmV9i9c58mdDCSskIFdDS"
   ]
  },
  {
   "cell_type": "markdown",
   "id": "f7ffa7f8",
   "metadata": {},
   "source": [
    "inplace=True apply changes to dataframe"
   ]
  },
  {
   "cell_type": "code",
   "execution_count": 2,
   "id": "13ca8a34",
   "metadata": {},
   "outputs": [],
   "source": [
    "person = {\n",
    "    'first': \"Asghar\",\n",
    "    'last' : \"abbasi\",\n",
    "    'email': \"abc@gmail.com\"\n",
    "}"
   ]
  },
  {
   "cell_type": "code",
   "execution_count": 3,
   "id": "6ebe6875",
   "metadata": {},
   "outputs": [],
   "source": [
    "people = {\n",
    "    'first': ['Azhar'],\n",
    "    'last' : [\"Ali\"],\n",
    "    'email': ['Azhar@gmail.com']\n",
    "}"
   ]
  },
  {
   "cell_type": "code",
   "execution_count": 4,
   "id": "24c29c34",
   "metadata": {},
   "outputs": [],
   "source": [
    "people = {\n",
    "    'first': ['Azhar', 'Ali', 'sahito','Humza','Ahmed'],\n",
    "    'last' : [\"Ali\", \"Sahito\", \"Azhar\",\"Abbasi\",'Mari'],\n",
    "    'email': ['Azhar@gmail.com', 'ali@gmail.com', 'sahito@gmail.com', 'hamza@gmail.com','ahmed@gmail.com']\n",
    "}"
   ]
  },
  {
   "cell_type": "code",
   "execution_count": 5,
   "id": "ee2079e3",
   "metadata": {},
   "outputs": [
    {
     "data": {
      "text/html": [
       "<div>\n",
       "<style scoped>\n",
       "    .dataframe tbody tr th:only-of-type {\n",
       "        vertical-align: middle;\n",
       "    }\n",
       "\n",
       "    .dataframe tbody tr th {\n",
       "        vertical-align: top;\n",
       "    }\n",
       "\n",
       "    .dataframe thead th {\n",
       "        text-align: right;\n",
       "    }\n",
       "</style>\n",
       "<table border=\"1\" class=\"dataframe\">\n",
       "  <thead>\n",
       "    <tr style=\"text-align: right;\">\n",
       "      <th></th>\n",
       "      <th>first</th>\n",
       "      <th>last</th>\n",
       "      <th>email</th>\n",
       "    </tr>\n",
       "  </thead>\n",
       "  <tbody>\n",
       "    <tr>\n",
       "      <th>0</th>\n",
       "      <td>Azhar</td>\n",
       "      <td>Ali</td>\n",
       "      <td>Azhar@gmail.com</td>\n",
       "    </tr>\n",
       "    <tr>\n",
       "      <th>1</th>\n",
       "      <td>Ali</td>\n",
       "      <td>Sahito</td>\n",
       "      <td>ali@gmail.com</td>\n",
       "    </tr>\n",
       "    <tr>\n",
       "      <th>2</th>\n",
       "      <td>sahito</td>\n",
       "      <td>Azhar</td>\n",
       "      <td>sahito@gmail.com</td>\n",
       "    </tr>\n",
       "    <tr>\n",
       "      <th>3</th>\n",
       "      <td>Humza</td>\n",
       "      <td>Abbasi</td>\n",
       "      <td>hamza@gmail.com</td>\n",
       "    </tr>\n",
       "    <tr>\n",
       "      <th>4</th>\n",
       "      <td>Ahmed</td>\n",
       "      <td>Mari</td>\n",
       "      <td>ahmed@gmail.com</td>\n",
       "    </tr>\n",
       "  </tbody>\n",
       "</table>\n",
       "</div>"
      ],
      "text/plain": [
       "    first    last             email\n",
       "0   Azhar     Ali   Azhar@gmail.com\n",
       "1     Ali  Sahito     ali@gmail.com\n",
       "2  sahito   Azhar  sahito@gmail.com\n",
       "3   Humza  Abbasi   hamza@gmail.com\n",
       "4   Ahmed    Mari   ahmed@gmail.com"
      ]
     },
     "execution_count": 5,
     "metadata": {},
     "output_type": "execute_result"
    }
   ],
   "source": [
    "df = pd.DataFrame(people)\n",
    "df"
   ]
  },
  {
   "cell_type": "code",
   "execution_count": 6,
   "id": "7765d908",
   "metadata": {},
   "outputs": [
    {
     "data": {
      "text/plain": [
       "0     Azhar@gmail.com\n",
       "1       ali@gmail.com\n",
       "2    sahito@gmail.com\n",
       "3     hamza@gmail.com\n",
       "4     ahmed@gmail.com\n",
       "Name: email, dtype: object"
      ]
     },
     "execution_count": 6,
     "metadata": {},
     "output_type": "execute_result"
    }
   ],
   "source": [
    "df['email'] # preferred"
   ]
  },
  {
   "cell_type": "code",
   "execution_count": 7,
   "id": "c6f99049",
   "metadata": {},
   "outputs": [
    {
     "data": {
      "text/plain": [
       "0     Azhar@gmail.com\n",
       "1       ali@gmail.com\n",
       "2    sahito@gmail.com\n",
       "3     hamza@gmail.com\n",
       "4     ahmed@gmail.com\n",
       "Name: email, dtype: object"
      ]
     },
     "execution_count": 7,
     "metadata": {},
     "output_type": "execute_result"
    }
   ],
   "source": [
    "df.email"
   ]
  },
  {
   "cell_type": "code",
   "execution_count": 8,
   "id": "59a09597",
   "metadata": {},
   "outputs": [
    {
     "data": {
      "text/html": [
       "<div>\n",
       "<style scoped>\n",
       "    .dataframe tbody tr th:only-of-type {\n",
       "        vertical-align: middle;\n",
       "    }\n",
       "\n",
       "    .dataframe tbody tr th {\n",
       "        vertical-align: top;\n",
       "    }\n",
       "\n",
       "    .dataframe thead th {\n",
       "        text-align: right;\n",
       "    }\n",
       "</style>\n",
       "<table border=\"1\" class=\"dataframe\">\n",
       "  <thead>\n",
       "    <tr style=\"text-align: right;\">\n",
       "      <th></th>\n",
       "      <th>first</th>\n",
       "      <th>last</th>\n",
       "    </tr>\n",
       "  </thead>\n",
       "  <tbody>\n",
       "    <tr>\n",
       "      <th>0</th>\n",
       "      <td>Azhar</td>\n",
       "      <td>Ali</td>\n",
       "    </tr>\n",
       "    <tr>\n",
       "      <th>1</th>\n",
       "      <td>Ali</td>\n",
       "      <td>Sahito</td>\n",
       "    </tr>\n",
       "    <tr>\n",
       "      <th>2</th>\n",
       "      <td>sahito</td>\n",
       "      <td>Azhar</td>\n",
       "    </tr>\n",
       "    <tr>\n",
       "      <th>3</th>\n",
       "      <td>Humza</td>\n",
       "      <td>Abbasi</td>\n",
       "    </tr>\n",
       "    <tr>\n",
       "      <th>4</th>\n",
       "      <td>Ahmed</td>\n",
       "      <td>Mari</td>\n",
       "    </tr>\n",
       "  </tbody>\n",
       "</table>\n",
       "</div>"
      ],
      "text/plain": [
       "    first    last\n",
       "0   Azhar     Ali\n",
       "1     Ali  Sahito\n",
       "2  sahito   Azhar\n",
       "3   Humza  Abbasi\n",
       "4   Ahmed    Mari"
      ]
     },
     "execution_count": 8,
     "metadata": {},
     "output_type": "execute_result"
    }
   ],
   "source": [
    "df[['first','last']] # accessing multiple columns"
   ]
  },
  {
   "cell_type": "code",
   "execution_count": 9,
   "id": "230e6e61",
   "metadata": {},
   "outputs": [
    {
     "data": {
      "text/plain": [
       "Index(['first', 'last', 'email'], dtype='object')"
      ]
     },
     "execution_count": 9,
     "metadata": {},
     "output_type": "execute_result"
    }
   ],
   "source": [
    "df.columns"
   ]
  },
  {
   "cell_type": "code",
   "execution_count": 10,
   "id": "26297c10",
   "metadata": {},
   "outputs": [
    {
     "data": {
      "text/plain": [
       "first              sahito\n",
       "last                Azhar\n",
       "email    sahito@gmail.com\n",
       "Name: 2, dtype: object"
      ]
     },
     "execution_count": 10,
     "metadata": {},
     "output_type": "execute_result"
    }
   ],
   "source": [
    "df.iloc[2]  # index location"
   ]
  },
  {
   "cell_type": "code",
   "execution_count": 11,
   "id": "31b5f6cb",
   "metadata": {},
   "outputs": [
    {
     "data": {
      "text/html": [
       "<div>\n",
       "<style scoped>\n",
       "    .dataframe tbody tr th:only-of-type {\n",
       "        vertical-align: middle;\n",
       "    }\n",
       "\n",
       "    .dataframe tbody tr th {\n",
       "        vertical-align: top;\n",
       "    }\n",
       "\n",
       "    .dataframe thead th {\n",
       "        text-align: right;\n",
       "    }\n",
       "</style>\n",
       "<table border=\"1\" class=\"dataframe\">\n",
       "  <thead>\n",
       "    <tr style=\"text-align: right;\">\n",
       "      <th></th>\n",
       "      <th>first</th>\n",
       "      <th>last</th>\n",
       "      <th>email</th>\n",
       "    </tr>\n",
       "  </thead>\n",
       "  <tbody>\n",
       "    <tr>\n",
       "      <th>0</th>\n",
       "      <td>Azhar</td>\n",
       "      <td>Ali</td>\n",
       "      <td>Azhar@gmail.com</td>\n",
       "    </tr>\n",
       "    <tr>\n",
       "      <th>1</th>\n",
       "      <td>Ali</td>\n",
       "      <td>Sahito</td>\n",
       "      <td>ali@gmail.com</td>\n",
       "    </tr>\n",
       "  </tbody>\n",
       "</table>\n",
       "</div>"
      ],
      "text/plain": [
       "   first    last            email\n",
       "0  Azhar     Ali  Azhar@gmail.com\n",
       "1    Ali  Sahito    ali@gmail.com"
      ]
     },
     "execution_count": 11,
     "metadata": {},
     "output_type": "execute_result"
    }
   ],
   "source": [
    "df.iloc[[0,1]]  # index location"
   ]
  },
  {
   "cell_type": "code",
   "execution_count": 12,
   "id": "8398aa66",
   "metadata": {},
   "outputs": [
    {
     "data": {
      "text/plain": [
       "0    Azhar@gmail.com\n",
       "1      ali@gmail.com\n",
       "Name: email, dtype: object"
      ]
     },
     "execution_count": 12,
     "metadata": {},
     "output_type": "execute_result"
    }
   ],
   "source": [
    "df.iloc[[0,1],2]  # index location with specified column"
   ]
  },
  {
   "cell_type": "code",
   "execution_count": 13,
   "id": "13b375a2",
   "metadata": {},
   "outputs": [
    {
     "data": {
      "text/html": [
       "<div>\n",
       "<style scoped>\n",
       "    .dataframe tbody tr th:only-of-type {\n",
       "        vertical-align: middle;\n",
       "    }\n",
       "\n",
       "    .dataframe tbody tr th {\n",
       "        vertical-align: top;\n",
       "    }\n",
       "\n",
       "    .dataframe thead th {\n",
       "        text-align: right;\n",
       "    }\n",
       "</style>\n",
       "<table border=\"1\" class=\"dataframe\">\n",
       "  <thead>\n",
       "    <tr style=\"text-align: right;\">\n",
       "      <th></th>\n",
       "      <th>first</th>\n",
       "      <th>last</th>\n",
       "      <th>email</th>\n",
       "    </tr>\n",
       "  </thead>\n",
       "  <tbody>\n",
       "    <tr>\n",
       "      <th>0</th>\n",
       "      <td>Azhar</td>\n",
       "      <td>Ali</td>\n",
       "      <td>Azhar@gmail.com</td>\n",
       "    </tr>\n",
       "    <tr>\n",
       "      <th>1</th>\n",
       "      <td>Ali</td>\n",
       "      <td>Sahito</td>\n",
       "      <td>ali@gmail.com</td>\n",
       "    </tr>\n",
       "  </tbody>\n",
       "</table>\n",
       "</div>"
      ],
      "text/plain": [
       "   first    last            email\n",
       "0  Azhar     Ali  Azhar@gmail.com\n",
       "1    Ali  Sahito    ali@gmail.com"
      ]
     },
     "execution_count": 13,
     "metadata": {},
     "output_type": "execute_result"
    }
   ],
   "source": [
    "df.loc[[0,1]]"
   ]
  },
  {
   "cell_type": "code",
   "execution_count": 14,
   "id": "c1dafe88",
   "metadata": {},
   "outputs": [
    {
     "data": {
      "text/plain": [
       "0       Ali\n",
       "1    Sahito\n",
       "Name: last, dtype: object"
      ]
     },
     "execution_count": 14,
     "metadata": {},
     "output_type": "execute_result"
    }
   ],
   "source": [
    "df.loc[[0,1],'last']"
   ]
  },
  {
   "cell_type": "code",
   "execution_count": 15,
   "id": "b0f53de1",
   "metadata": {},
   "outputs": [],
   "source": [
    "# df.set_index('email', inplace=True)"
   ]
  },
  {
   "cell_type": "code",
   "execution_count": 16,
   "id": "5e953305",
   "metadata": {},
   "outputs": [],
   "source": [
    "# df"
   ]
  },
  {
   "cell_type": "code",
   "execution_count": 17,
   "id": "64e5c60e",
   "metadata": {},
   "outputs": [],
   "source": [
    "# df.loc['Azhar@gmail.com']"
   ]
  },
  {
   "cell_type": "markdown",
   "id": "47531fc7",
   "metadata": {},
   "source": [
    "# Filtering Data"
   ]
  },
  {
   "cell_type": "code",
   "execution_count": 18,
   "id": "04f9d8fc",
   "metadata": {},
   "outputs": [],
   "source": [
    "filt = (df['last'] == 'Ali')"
   ]
  },
  {
   "cell_type": "code",
   "execution_count": 19,
   "id": "b09b65cf",
   "metadata": {},
   "outputs": [
    {
     "data": {
      "text/html": [
       "<div>\n",
       "<style scoped>\n",
       "    .dataframe tbody tr th:only-of-type {\n",
       "        vertical-align: middle;\n",
       "    }\n",
       "\n",
       "    .dataframe tbody tr th {\n",
       "        vertical-align: top;\n",
       "    }\n",
       "\n",
       "    .dataframe thead th {\n",
       "        text-align: right;\n",
       "    }\n",
       "</style>\n",
       "<table border=\"1\" class=\"dataframe\">\n",
       "  <thead>\n",
       "    <tr style=\"text-align: right;\">\n",
       "      <th></th>\n",
       "      <th>first</th>\n",
       "      <th>last</th>\n",
       "      <th>email</th>\n",
       "    </tr>\n",
       "  </thead>\n",
       "  <tbody>\n",
       "    <tr>\n",
       "      <th>0</th>\n",
       "      <td>Azhar</td>\n",
       "      <td>Ali</td>\n",
       "      <td>Azhar@gmail.com</td>\n",
       "    </tr>\n",
       "  </tbody>\n",
       "</table>\n",
       "</div>"
      ],
      "text/plain": [
       "   first last            email\n",
       "0  Azhar  Ali  Azhar@gmail.com"
      ]
     },
     "execution_count": 19,
     "metadata": {},
     "output_type": "execute_result"
    }
   ],
   "source": [
    "df[filt]\n",
    "df.loc[filt] #both wrok same but in loc we can pass column name like df.loc[filt,'last']"
   ]
  },
  {
   "cell_type": "markdown",
   "id": "87eed834",
   "metadata": {},
   "source": [
    "# Updating Rows and Columns"
   ]
  },
  {
   "cell_type": "code",
   "execution_count": 20,
   "id": "fc9472ee",
   "metadata": {},
   "outputs": [
    {
     "data": {
      "text/plain": [
       "Index(['first', 'last', 'email'], dtype='object')"
      ]
     },
     "execution_count": 20,
     "metadata": {},
     "output_type": "execute_result"
    }
   ],
   "source": [
    "df.columns"
   ]
  },
  {
   "cell_type": "code",
   "execution_count": 21,
   "id": "65f58460",
   "metadata": {},
   "outputs": [
    {
     "data": {
      "text/plain": [
       "Index(['first name', 'last name', 'User_email'], dtype='object')"
      ]
     },
     "execution_count": 21,
     "metadata": {},
     "output_type": "execute_result"
    }
   ],
   "source": [
    "df.columns = ['first name','last name','User_email'] # Changing columns name method 1\n",
    "df.columns "
   ]
  },
  {
   "cell_type": "code",
   "execution_count": 22,
   "id": "93ecef77",
   "metadata": {},
   "outputs": [
    {
     "data": {
      "text/plain": [
       "Index(['FIRST NAME', 'LAST NAME', 'USER_EMAIL'], dtype='object')"
      ]
     },
     "execution_count": 22,
     "metadata": {},
     "output_type": "execute_result"
    }
   ],
   "source": [
    "df.columns = [x.upper() for x in df.columns] # upper case columns names\n",
    "df.columns"
   ]
  },
  {
   "cell_type": "code",
   "execution_count": 23,
   "id": "2f98e735",
   "metadata": {},
   "outputs": [
    {
     "data": {
      "text/plain": [
       "Index(['FIRST_NAME', 'LAST_NAME', 'USER_EMAIL'], dtype='object')"
      ]
     },
     "execution_count": 23,
     "metadata": {},
     "output_type": "execute_result"
    }
   ],
   "source": [
    "df.columns = df.columns.str.replace(' ','_')\n",
    "df.columns"
   ]
  },
  {
   "cell_type": "code",
   "execution_count": 24,
   "id": "c2e2df89",
   "metadata": {},
   "outputs": [
    {
     "data": {
      "text/plain": [
       "Index(['first', 'last', 'email'], dtype='object')"
      ]
     },
     "execution_count": 24,
     "metadata": {},
     "output_type": "execute_result"
    }
   ],
   "source": [
    "df.rename(columns={'FIRST_NAME':'first', 'LAST_NAME':\"last\"}, inplace=True) # Changing columns name method 2\n",
    "df.rename(columns={'USER_EMAIL':'email'}, inplace=True)\n",
    "df.columns"
   ]
  },
  {
   "cell_type": "code",
   "execution_count": 25,
   "id": "70ed1a71",
   "metadata": {},
   "outputs": [
    {
     "name": "stdout",
     "output_type": "stream",
     "text": [
      "first                Zohaib\n",
      "last                chandio\n",
      "email    ZOHAIB12@gmail.com\n",
      "Name: 2, dtype: object\n"
     ]
    },
    {
     "data": {
      "text/html": [
       "<div>\n",
       "<style scoped>\n",
       "    .dataframe tbody tr th:only-of-type {\n",
       "        vertical-align: middle;\n",
       "    }\n",
       "\n",
       "    .dataframe tbody tr th {\n",
       "        vertical-align: top;\n",
       "    }\n",
       "\n",
       "    .dataframe thead th {\n",
       "        text-align: right;\n",
       "    }\n",
       "</style>\n",
       "<table border=\"1\" class=\"dataframe\">\n",
       "  <thead>\n",
       "    <tr style=\"text-align: right;\">\n",
       "      <th></th>\n",
       "      <th>first</th>\n",
       "      <th>last</th>\n",
       "      <th>email</th>\n",
       "    </tr>\n",
       "  </thead>\n",
       "  <tbody>\n",
       "    <tr>\n",
       "      <th>0</th>\n",
       "      <td>Azhar</td>\n",
       "      <td>Ali</td>\n",
       "      <td>Azhar@gmail.com</td>\n",
       "    </tr>\n",
       "    <tr>\n",
       "      <th>1</th>\n",
       "      <td>Ali</td>\n",
       "      <td>Sahito</td>\n",
       "      <td>ali@gmail.com</td>\n",
       "    </tr>\n",
       "    <tr>\n",
       "      <th>2</th>\n",
       "      <td>Zohaib</td>\n",
       "      <td>chandio</td>\n",
       "      <td>ZOHAIB12@gmail.com</td>\n",
       "    </tr>\n",
       "    <tr>\n",
       "      <th>3</th>\n",
       "      <td>Humza</td>\n",
       "      <td>Abbasi</td>\n",
       "      <td>hamza@gmail.com</td>\n",
       "    </tr>\n",
       "    <tr>\n",
       "      <th>4</th>\n",
       "      <td>Ahmed</td>\n",
       "      <td>Mari</td>\n",
       "      <td>ahmed@gmail.com</td>\n",
       "    </tr>\n",
       "  </tbody>\n",
       "</table>\n",
       "</div>"
      ],
      "text/plain": [
       "    first     last               email\n",
       "0   Azhar      Ali     Azhar@gmail.com\n",
       "1     Ali   Sahito       ali@gmail.com\n",
       "2  Zohaib  chandio  ZOHAIB12@gmail.com\n",
       "3   Humza   Abbasi     hamza@gmail.com\n",
       "4   Ahmed     Mari     ahmed@gmail.com"
      ]
     },
     "execution_count": 25,
     "metadata": {},
     "output_type": "execute_result"
    }
   ],
   "source": [
    "df.loc[2] = ['Zohaib', 'chandio', 'ZOHAIB12@gmail.com'] # changing Row data \n",
    "print(df.loc[2])\n",
    "df"
   ]
  },
  {
   "cell_type": "code",
   "execution_count": 26,
   "id": "38d0a84e",
   "metadata": {},
   "outputs": [
    {
     "data": {
      "text/html": [
       "<div>\n",
       "<style scoped>\n",
       "    .dataframe tbody tr th:only-of-type {\n",
       "        vertical-align: middle;\n",
       "    }\n",
       "\n",
       "    .dataframe tbody tr th {\n",
       "        vertical-align: top;\n",
       "    }\n",
       "\n",
       "    .dataframe thead th {\n",
       "        text-align: right;\n",
       "    }\n",
       "</style>\n",
       "<table border=\"1\" class=\"dataframe\">\n",
       "  <thead>\n",
       "    <tr style=\"text-align: right;\">\n",
       "      <th></th>\n",
       "      <th>first</th>\n",
       "      <th>last</th>\n",
       "      <th>email</th>\n",
       "    </tr>\n",
       "  </thead>\n",
       "  <tbody>\n",
       "    <tr>\n",
       "      <th>0</th>\n",
       "      <td>Azhar</td>\n",
       "      <td>Ali</td>\n",
       "      <td>Azhar@gmail.com</td>\n",
       "    </tr>\n",
       "    <tr>\n",
       "      <th>1</th>\n",
       "      <td>Raza</td>\n",
       "      <td>Sahito</td>\n",
       "      <td>raza1@gmail.com</td>\n",
       "    </tr>\n",
       "    <tr>\n",
       "      <th>2</th>\n",
       "      <td>Zohaib</td>\n",
       "      <td>chandio</td>\n",
       "      <td>ZOHAIB12@gmail.com</td>\n",
       "    </tr>\n",
       "    <tr>\n",
       "      <th>3</th>\n",
       "      <td>Humza</td>\n",
       "      <td>Abbasi</td>\n",
       "      <td>hamza@gmail.com</td>\n",
       "    </tr>\n",
       "    <tr>\n",
       "      <th>4</th>\n",
       "      <td>Ahmed</td>\n",
       "      <td>Mari</td>\n",
       "      <td>ahmed@gmail.com</td>\n",
       "    </tr>\n",
       "  </tbody>\n",
       "</table>\n",
       "</div>"
      ],
      "text/plain": [
       "    first     last               email\n",
       "0   Azhar      Ali     Azhar@gmail.com\n",
       "1    Raza   Sahito     raza1@gmail.com\n",
       "2  Zohaib  chandio  ZOHAIB12@gmail.com\n",
       "3   Humza   Abbasi     hamza@gmail.com\n",
       "4   Ahmed     Mari     ahmed@gmail.com"
      ]
     },
     "execution_count": 26,
     "metadata": {},
     "output_type": "execute_result"
    }
   ],
   "source": [
    "df.loc[1,['first','email']] = ['Raza', 'raza1@gmail.com']\n",
    "df"
   ]
  },
  {
   "cell_type": "code",
   "execution_count": 27,
   "id": "1fd550bd",
   "metadata": {},
   "outputs": [
    {
     "data": {
      "text/html": [
       "<div>\n",
       "<style scoped>\n",
       "    .dataframe tbody tr th:only-of-type {\n",
       "        vertical-align: middle;\n",
       "    }\n",
       "\n",
       "    .dataframe tbody tr th {\n",
       "        vertical-align: top;\n",
       "    }\n",
       "\n",
       "    .dataframe thead th {\n",
       "        text-align: right;\n",
       "    }\n",
       "</style>\n",
       "<table border=\"1\" class=\"dataframe\">\n",
       "  <thead>\n",
       "    <tr style=\"text-align: right;\">\n",
       "      <th></th>\n",
       "      <th>first</th>\n",
       "      <th>last</th>\n",
       "      <th>email</th>\n",
       "    </tr>\n",
       "  </thead>\n",
       "  <tbody>\n",
       "    <tr>\n",
       "      <th>0</th>\n",
       "      <td>Azhar</td>\n",
       "      <td>Sahito</td>\n",
       "      <td>Azhar@gmail.com</td>\n",
       "    </tr>\n",
       "    <tr>\n",
       "      <th>1</th>\n",
       "      <td>Raza</td>\n",
       "      <td>Sahito</td>\n",
       "      <td>raza1@gmail.com</td>\n",
       "    </tr>\n",
       "    <tr>\n",
       "      <th>2</th>\n",
       "      <td>Zohaib</td>\n",
       "      <td>chandio</td>\n",
       "      <td>ZOHAIB12@gmail.com</td>\n",
       "    </tr>\n",
       "    <tr>\n",
       "      <th>3</th>\n",
       "      <td>Humza</td>\n",
       "      <td>Abbasi</td>\n",
       "      <td>hamza@gmail.com</td>\n",
       "    </tr>\n",
       "    <tr>\n",
       "      <th>4</th>\n",
       "      <td>Ahmed</td>\n",
       "      <td>Mari</td>\n",
       "      <td>ahmed@gmail.com</td>\n",
       "    </tr>\n",
       "  </tbody>\n",
       "</table>\n",
       "</div>"
      ],
      "text/plain": [
       "    first     last               email\n",
       "0   Azhar   Sahito     Azhar@gmail.com\n",
       "1    Raza   Sahito     raza1@gmail.com\n",
       "2  Zohaib  chandio  ZOHAIB12@gmail.com\n",
       "3   Humza   Abbasi     hamza@gmail.com\n",
       "4   Ahmed     Mari     ahmed@gmail.com"
      ]
     },
     "execution_count": 27,
     "metadata": {},
     "output_type": "execute_result"
    }
   ],
   "source": [
    "df.loc[0,'last'] ='Sahito' #change single value method 1\n",
    "# df.at[0,'last'] = \"ALI\"    #method 2\n",
    "df"
   ]
  },
  {
   "cell_type": "code",
   "execution_count": 28,
   "id": "e5e21104",
   "metadata": {},
   "outputs": [
    {
     "data": {
      "text/html": [
       "<div>\n",
       "<style scoped>\n",
       "    .dataframe tbody tr th:only-of-type {\n",
       "        vertical-align: middle;\n",
       "    }\n",
       "\n",
       "    .dataframe tbody tr th {\n",
       "        vertical-align: top;\n",
       "    }\n",
       "\n",
       "    .dataframe thead th {\n",
       "        text-align: right;\n",
       "    }\n",
       "</style>\n",
       "<table border=\"1\" class=\"dataframe\">\n",
       "  <thead>\n",
       "    <tr style=\"text-align: right;\">\n",
       "      <th></th>\n",
       "      <th>first</th>\n",
       "      <th>last</th>\n",
       "      <th>email</th>\n",
       "    </tr>\n",
       "  </thead>\n",
       "  <tbody>\n",
       "    <tr>\n",
       "      <th>0</th>\n",
       "      <td>Azhar</td>\n",
       "      <td>Sahito</td>\n",
       "      <td>AZHAR@GMAIL.COM</td>\n",
       "    </tr>\n",
       "    <tr>\n",
       "      <th>1</th>\n",
       "      <td>Raza</td>\n",
       "      <td>Sahito</td>\n",
       "      <td>RAZA1@GMAIL.COM</td>\n",
       "    </tr>\n",
       "    <tr>\n",
       "      <th>2</th>\n",
       "      <td>Zohaib</td>\n",
       "      <td>chandio</td>\n",
       "      <td>ZOHAIB12@GMAIL.COM</td>\n",
       "    </tr>\n",
       "    <tr>\n",
       "      <th>3</th>\n",
       "      <td>Humza</td>\n",
       "      <td>Abbasi</td>\n",
       "      <td>HAMZA@GMAIL.COM</td>\n",
       "    </tr>\n",
       "    <tr>\n",
       "      <th>4</th>\n",
       "      <td>Ahmed</td>\n",
       "      <td>Mari</td>\n",
       "      <td>AHMED@GMAIL.COM</td>\n",
       "    </tr>\n",
       "  </tbody>\n",
       "</table>\n",
       "</div>"
      ],
      "text/plain": [
       "    first     last               email\n",
       "0   Azhar   Sahito     AZHAR@GMAIL.COM\n",
       "1    Raza   Sahito     RAZA1@GMAIL.COM\n",
       "2  Zohaib  chandio  ZOHAIB12@GMAIL.COM\n",
       "3   Humza   Abbasi     HAMZA@GMAIL.COM\n",
       "4   Ahmed     Mari     AHMED@GMAIL.COM"
      ]
     },
     "execution_count": 28,
     "metadata": {},
     "output_type": "execute_result"
    }
   ],
   "source": [
    "df['email'] = df['email'].str.upper() #Changing into upper case all emails both methods work same\n",
    "df['email'].str.upper()\n",
    "df"
   ]
  },
  {
   "cell_type": "code",
   "execution_count": 29,
   "id": "a4851443",
   "metadata": {},
   "outputs": [
    {
     "data": {
      "text/plain": [
       "0    15\n",
       "1    15\n",
       "2    18\n",
       "3    15\n",
       "4    15\n",
       "Name: email, dtype: int64"
      ]
     },
     "execution_count": 29,
     "metadata": {},
     "output_type": "execute_result"
    }
   ],
   "source": [
    "df['email'].apply(len) # gives length of emails"
   ]
  },
  {
   "cell_type": "code",
   "execution_count": 30,
   "id": "87c30bce",
   "metadata": {},
   "outputs": [
    {
     "data": {
      "text/html": [
       "<div>\n",
       "<style scoped>\n",
       "    .dataframe tbody tr th:only-of-type {\n",
       "        vertical-align: middle;\n",
       "    }\n",
       "\n",
       "    .dataframe tbody tr th {\n",
       "        vertical-align: top;\n",
       "    }\n",
       "\n",
       "    .dataframe thead th {\n",
       "        text-align: right;\n",
       "    }\n",
       "</style>\n",
       "<table border=\"1\" class=\"dataframe\">\n",
       "  <thead>\n",
       "    <tr style=\"text-align: right;\">\n",
       "      <th></th>\n",
       "      <th>first</th>\n",
       "      <th>last</th>\n",
       "      <th>email</th>\n",
       "    </tr>\n",
       "  </thead>\n",
       "  <tbody>\n",
       "    <tr>\n",
       "      <th>0</th>\n",
       "      <td>Azhar</td>\n",
       "      <td>Sahito</td>\n",
       "      <td>AZHAR@GMAIL.COM</td>\n",
       "    </tr>\n",
       "    <tr>\n",
       "      <th>1</th>\n",
       "      <td>Raza</td>\n",
       "      <td>Sahito</td>\n",
       "      <td>RAZA1@GMAIL.COM</td>\n",
       "    </tr>\n",
       "    <tr>\n",
       "      <th>2</th>\n",
       "      <td>Zohaib</td>\n",
       "      <td>chandio</td>\n",
       "      <td>ZOHAIB12@GMAIL.COM</td>\n",
       "    </tr>\n",
       "    <tr>\n",
       "      <th>3</th>\n",
       "      <td>Humza</td>\n",
       "      <td>Abbasi</td>\n",
       "      <td>HAMZA@GMAIL.COM</td>\n",
       "    </tr>\n",
       "    <tr>\n",
       "      <th>4</th>\n",
       "      <td>Ahmed</td>\n",
       "      <td>Mari</td>\n",
       "      <td>AHMED@GMAIL.COM</td>\n",
       "    </tr>\n",
       "  </tbody>\n",
       "</table>\n",
       "</div>"
      ],
      "text/plain": [
       "    first     last               email\n",
       "0   Azhar   Sahito     AZHAR@GMAIL.COM\n",
       "1    Raza   Sahito     RAZA1@GMAIL.COM\n",
       "2  Zohaib  chandio  ZOHAIB12@GMAIL.COM\n",
       "3   Humza   Abbasi     HAMZA@GMAIL.COM\n",
       "4   Ahmed     Mari     AHMED@GMAIL.COM"
      ]
     },
     "execution_count": 30,
     "metadata": {},
     "output_type": "execute_result"
    }
   ],
   "source": [
    "def update_email(email):\n",
    "    return email.upper()\n",
    "df['email'].apply(update_email)\n",
    "df"
   ]
  },
  {
   "cell_type": "code",
   "execution_count": 31,
   "id": "f33d1545",
   "metadata": {},
   "outputs": [
    {
     "data": {
      "text/html": [
       "<div>\n",
       "<style scoped>\n",
       "    .dataframe tbody tr th:only-of-type {\n",
       "        vertical-align: middle;\n",
       "    }\n",
       "\n",
       "    .dataframe tbody tr th {\n",
       "        vertical-align: top;\n",
       "    }\n",
       "\n",
       "    .dataframe thead th {\n",
       "        text-align: right;\n",
       "    }\n",
       "</style>\n",
       "<table border=\"1\" class=\"dataframe\">\n",
       "  <thead>\n",
       "    <tr style=\"text-align: right;\">\n",
       "      <th></th>\n",
       "      <th>first</th>\n",
       "      <th>last</th>\n",
       "      <th>email</th>\n",
       "    </tr>\n",
       "  </thead>\n",
       "  <tbody>\n",
       "    <tr>\n",
       "      <th>0</th>\n",
       "      <td>Azhar</td>\n",
       "      <td>Sahito</td>\n",
       "      <td>azhar@gmail.com</td>\n",
       "    </tr>\n",
       "    <tr>\n",
       "      <th>1</th>\n",
       "      <td>Raza</td>\n",
       "      <td>Sahito</td>\n",
       "      <td>raza1@gmail.com</td>\n",
       "    </tr>\n",
       "    <tr>\n",
       "      <th>2</th>\n",
       "      <td>Zohaib</td>\n",
       "      <td>chandio</td>\n",
       "      <td>zohaib12@gmail.com</td>\n",
       "    </tr>\n",
       "    <tr>\n",
       "      <th>3</th>\n",
       "      <td>Humza</td>\n",
       "      <td>Abbasi</td>\n",
       "      <td>hamza@gmail.com</td>\n",
       "    </tr>\n",
       "    <tr>\n",
       "      <th>4</th>\n",
       "      <td>Ahmed</td>\n",
       "      <td>Mari</td>\n",
       "      <td>ahmed@gmail.com</td>\n",
       "    </tr>\n",
       "  </tbody>\n",
       "</table>\n",
       "</div>"
      ],
      "text/plain": [
       "    first     last               email\n",
       "0   Azhar   Sahito     azhar@gmail.com\n",
       "1    Raza   Sahito     raza1@gmail.com\n",
       "2  Zohaib  chandio  zohaib12@gmail.com\n",
       "3   Humza   Abbasi     hamza@gmail.com\n",
       "4   Ahmed     Mari     ahmed@gmail.com"
      ]
     },
     "execution_count": 31,
     "metadata": {},
     "output_type": "execute_result"
    }
   ],
   "source": [
    "df['email'] = df['email'].apply(lambda x: x.lower()) \n",
    "df"
   ]
  },
  {
   "cell_type": "code",
   "execution_count": 32,
   "id": "abab5c6d",
   "metadata": {},
   "outputs": [
    {
     "data": {
      "text/plain": [
       "first    5\n",
       "last     5\n",
       "email    5\n",
       "dtype: int64"
      ]
     },
     "execution_count": 32,
     "metadata": {},
     "output_type": "execute_result"
    }
   ],
   "source": [
    "df.apply(len) # gives values in row"
   ]
  },
  {
   "cell_type": "code",
   "execution_count": 33,
   "id": "4341de32",
   "metadata": {},
   "outputs": [
    {
     "data": {
      "text/plain": [
       "first              Ahmed\n",
       "last              Abbasi\n",
       "email    ahmed@gmail.com\n",
       "dtype: object"
      ]
     },
     "execution_count": 33,
     "metadata": {},
     "output_type": "execute_result"
    }
   ],
   "source": [
    "df.apply(pd.Series.min) # finding minimum value both method work same\n",
    "# df.apply(lambda x : x.min())"
   ]
  },
  {
   "cell_type": "code",
   "execution_count": 34,
   "id": "5de2aef2",
   "metadata": {},
   "outputs": [
    {
     "data": {
      "text/html": [
       "<div>\n",
       "<style scoped>\n",
       "    .dataframe tbody tr th:only-of-type {\n",
       "        vertical-align: middle;\n",
       "    }\n",
       "\n",
       "    .dataframe tbody tr th {\n",
       "        vertical-align: top;\n",
       "    }\n",
       "\n",
       "    .dataframe thead th {\n",
       "        text-align: right;\n",
       "    }\n",
       "</style>\n",
       "<table border=\"1\" class=\"dataframe\">\n",
       "  <thead>\n",
       "    <tr style=\"text-align: right;\">\n",
       "      <th></th>\n",
       "      <th>first</th>\n",
       "      <th>last</th>\n",
       "      <th>email</th>\n",
       "    </tr>\n",
       "  </thead>\n",
       "  <tbody>\n",
       "    <tr>\n",
       "      <th>0</th>\n",
       "      <td>5</td>\n",
       "      <td>6</td>\n",
       "      <td>15</td>\n",
       "    </tr>\n",
       "    <tr>\n",
       "      <th>1</th>\n",
       "      <td>4</td>\n",
       "      <td>6</td>\n",
       "      <td>15</td>\n",
       "    </tr>\n",
       "    <tr>\n",
       "      <th>2</th>\n",
       "      <td>6</td>\n",
       "      <td>7</td>\n",
       "      <td>18</td>\n",
       "    </tr>\n",
       "    <tr>\n",
       "      <th>3</th>\n",
       "      <td>5</td>\n",
       "      <td>6</td>\n",
       "      <td>15</td>\n",
       "    </tr>\n",
       "    <tr>\n",
       "      <th>4</th>\n",
       "      <td>5</td>\n",
       "      <td>4</td>\n",
       "      <td>15</td>\n",
       "    </tr>\n",
       "  </tbody>\n",
       "</table>\n",
       "</div>"
      ],
      "text/plain": [
       "   first  last  email\n",
       "0      5     6     15\n",
       "1      4     6     15\n",
       "2      6     7     18\n",
       "3      5     6     15\n",
       "4      5     4     15"
      ]
     },
     "execution_count": 34,
     "metadata": {},
     "output_type": "execute_result"
    }
   ],
   "source": [
    "df.applymap(len)"
   ]
  },
  {
   "cell_type": "code",
   "execution_count": 35,
   "id": "e54b620e",
   "metadata": {},
   "outputs": [
    {
     "data": {
      "text/html": [
       "<div>\n",
       "<style scoped>\n",
       "    .dataframe tbody tr th:only-of-type {\n",
       "        vertical-align: middle;\n",
       "    }\n",
       "\n",
       "    .dataframe tbody tr th {\n",
       "        vertical-align: top;\n",
       "    }\n",
       "\n",
       "    .dataframe thead th {\n",
       "        text-align: right;\n",
       "    }\n",
       "</style>\n",
       "<table border=\"1\" class=\"dataframe\">\n",
       "  <thead>\n",
       "    <tr style=\"text-align: right;\">\n",
       "      <th></th>\n",
       "      <th>first</th>\n",
       "      <th>last</th>\n",
       "      <th>email</th>\n",
       "    </tr>\n",
       "  </thead>\n",
       "  <tbody>\n",
       "    <tr>\n",
       "      <th>0</th>\n",
       "      <td>AZHAR</td>\n",
       "      <td>SAHITO</td>\n",
       "      <td>AZHAR@GMAIL.COM</td>\n",
       "    </tr>\n",
       "    <tr>\n",
       "      <th>1</th>\n",
       "      <td>RAZA</td>\n",
       "      <td>SAHITO</td>\n",
       "      <td>RAZA1@GMAIL.COM</td>\n",
       "    </tr>\n",
       "    <tr>\n",
       "      <th>2</th>\n",
       "      <td>ZOHAIB</td>\n",
       "      <td>CHANDIO</td>\n",
       "      <td>ZOHAIB12@GMAIL.COM</td>\n",
       "    </tr>\n",
       "    <tr>\n",
       "      <th>3</th>\n",
       "      <td>HUMZA</td>\n",
       "      <td>ABBASI</td>\n",
       "      <td>HAMZA@GMAIL.COM</td>\n",
       "    </tr>\n",
       "    <tr>\n",
       "      <th>4</th>\n",
       "      <td>AHMED</td>\n",
       "      <td>MARI</td>\n",
       "      <td>AHMED@GMAIL.COM</td>\n",
       "    </tr>\n",
       "  </tbody>\n",
       "</table>\n",
       "</div>"
      ],
      "text/plain": [
       "    first     last               email\n",
       "0   AZHAR   SAHITO     AZHAR@GMAIL.COM\n",
       "1    RAZA   SAHITO     RAZA1@GMAIL.COM\n",
       "2  ZOHAIB  CHANDIO  ZOHAIB12@GMAIL.COM\n",
       "3   HUMZA   ABBASI     HAMZA@GMAIL.COM\n",
       "4   AHMED     MARI     AHMED@GMAIL.COM"
      ]
     },
     "execution_count": 35,
     "metadata": {},
     "output_type": "execute_result"
    }
   ],
   "source": [
    "df.applymap(str.upper) # this just retrun copy of upper case values \n",
    "df = df.applymap(str.upper) #this replace dataframe with upper case values\n",
    "df"
   ]
  },
  {
   "cell_type": "code",
   "execution_count": 36,
   "id": "0c50c717",
   "metadata": {},
   "outputs": [
    {
     "data": {
      "text/html": [
       "<div>\n",
       "<style scoped>\n",
       "    .dataframe tbody tr th:only-of-type {\n",
       "        vertical-align: middle;\n",
       "    }\n",
       "\n",
       "    .dataframe tbody tr th {\n",
       "        vertical-align: top;\n",
       "    }\n",
       "\n",
       "    .dataframe thead th {\n",
       "        text-align: right;\n",
       "    }\n",
       "</style>\n",
       "<table border=\"1\" class=\"dataframe\">\n",
       "  <thead>\n",
       "    <tr style=\"text-align: right;\">\n",
       "      <th></th>\n",
       "      <th>first</th>\n",
       "      <th>last</th>\n",
       "      <th>email</th>\n",
       "    </tr>\n",
       "  </thead>\n",
       "  <tbody>\n",
       "    <tr>\n",
       "      <th>0</th>\n",
       "      <td>AZHAR</td>\n",
       "      <td>SAHITO</td>\n",
       "      <td>AZHAR@GMAIL.COM</td>\n",
       "    </tr>\n",
       "    <tr>\n",
       "      <th>1</th>\n",
       "      <td>RAZA</td>\n",
       "      <td>SAHITO</td>\n",
       "      <td>razaChandio@gmail.com</td>\n",
       "    </tr>\n",
       "    <tr>\n",
       "      <th>2</th>\n",
       "      <td>ZOHAIB</td>\n",
       "      <td>CHANDIO</td>\n",
       "      <td>ZOHAIB12@GMAIL.COM</td>\n",
       "    </tr>\n",
       "    <tr>\n",
       "      <th>3</th>\n",
       "      <td>HUMZA</td>\n",
       "      <td>ABBASI</td>\n",
       "      <td>HAMZA@GMAIL.COM</td>\n",
       "    </tr>\n",
       "    <tr>\n",
       "      <th>4</th>\n",
       "      <td>AHMED</td>\n",
       "      <td>MARI</td>\n",
       "      <td>AHMED@GMAIL.COM</td>\n",
       "    </tr>\n",
       "  </tbody>\n",
       "</table>\n",
       "</div>"
      ],
      "text/plain": [
       "    first     last                  email\n",
       "0   AZHAR   SAHITO        AZHAR@GMAIL.COM\n",
       "1    RAZA   SAHITO  razaChandio@gmail.com\n",
       "2  ZOHAIB  CHANDIO     ZOHAIB12@GMAIL.COM\n",
       "3   HUMZA   ABBASI        HAMZA@GMAIL.COM\n",
       "4   AHMED     MARI        AHMED@GMAIL.COM"
      ]
     },
     "execution_count": 36,
     "metadata": {},
     "output_type": "execute_result"
    }
   ],
   "source": [
    "df['email'] = df['email'].replace({'RAZA1@GMAIL.COM':'razaChandio@gmail.com'})\n",
    "df"
   ]
  },
  {
   "cell_type": "markdown",
   "id": "ade6dc77",
   "metadata": {},
   "source": [
    "# Adding and removing columns"
   ]
  },
  {
   "cell_type": "code",
   "execution_count": 37,
   "id": "9664f287",
   "metadata": {},
   "outputs": [
    {
     "data": {
      "text/plain": [
       "0      AZHAR_SAHITO\n",
       "1       RAZA_SAHITO\n",
       "2    ZOHAIB_CHANDIO\n",
       "3      HUMZA_ABBASI\n",
       "4        AHMED_MARI\n",
       "dtype: object"
      ]
     },
     "execution_count": 37,
     "metadata": {},
     "output_type": "execute_result"
    }
   ],
   "source": [
    "df['first'] + '_' + df['last'] #combining columns"
   ]
  },
  {
   "cell_type": "code",
   "execution_count": 38,
   "id": "469c998c",
   "metadata": {},
   "outputs": [
    {
     "data": {
      "text/html": [
       "<div>\n",
       "<style scoped>\n",
       "    .dataframe tbody tr th:only-of-type {\n",
       "        vertical-align: middle;\n",
       "    }\n",
       "\n",
       "    .dataframe tbody tr th {\n",
       "        vertical-align: top;\n",
       "    }\n",
       "\n",
       "    .dataframe thead th {\n",
       "        text-align: right;\n",
       "    }\n",
       "</style>\n",
       "<table border=\"1\" class=\"dataframe\">\n",
       "  <thead>\n",
       "    <tr style=\"text-align: right;\">\n",
       "      <th></th>\n",
       "      <th>first</th>\n",
       "      <th>last</th>\n",
       "      <th>email</th>\n",
       "      <th>full_name</th>\n",
       "    </tr>\n",
       "  </thead>\n",
       "  <tbody>\n",
       "    <tr>\n",
       "      <th>0</th>\n",
       "      <td>AZHAR</td>\n",
       "      <td>SAHITO</td>\n",
       "      <td>AZHAR@GMAIL.COM</td>\n",
       "      <td>AZHAR_SAHITO</td>\n",
       "    </tr>\n",
       "    <tr>\n",
       "      <th>1</th>\n",
       "      <td>RAZA</td>\n",
       "      <td>SAHITO</td>\n",
       "      <td>razaChandio@gmail.com</td>\n",
       "      <td>RAZA_SAHITO</td>\n",
       "    </tr>\n",
       "    <tr>\n",
       "      <th>2</th>\n",
       "      <td>ZOHAIB</td>\n",
       "      <td>CHANDIO</td>\n",
       "      <td>ZOHAIB12@GMAIL.COM</td>\n",
       "      <td>ZOHAIB_CHANDIO</td>\n",
       "    </tr>\n",
       "    <tr>\n",
       "      <th>3</th>\n",
       "      <td>HUMZA</td>\n",
       "      <td>ABBASI</td>\n",
       "      <td>HAMZA@GMAIL.COM</td>\n",
       "      <td>HUMZA_ABBASI</td>\n",
       "    </tr>\n",
       "    <tr>\n",
       "      <th>4</th>\n",
       "      <td>AHMED</td>\n",
       "      <td>MARI</td>\n",
       "      <td>AHMED@GMAIL.COM</td>\n",
       "      <td>AHMED_MARI</td>\n",
       "    </tr>\n",
       "  </tbody>\n",
       "</table>\n",
       "</div>"
      ],
      "text/plain": [
       "    first     last                  email       full_name\n",
       "0   AZHAR   SAHITO        AZHAR@GMAIL.COM    AZHAR_SAHITO\n",
       "1    RAZA   SAHITO  razaChandio@gmail.com     RAZA_SAHITO\n",
       "2  ZOHAIB  CHANDIO     ZOHAIB12@GMAIL.COM  ZOHAIB_CHANDIO\n",
       "3   HUMZA   ABBASI        HAMZA@GMAIL.COM    HUMZA_ABBASI\n",
       "4   AHMED     MARI        AHMED@GMAIL.COM      AHMED_MARI"
      ]
     },
     "execution_count": 38,
     "metadata": {},
     "output_type": "execute_result"
    }
   ],
   "source": [
    "df['full_name'] = df['first'] + '_' + df['last']  #combining columns and creating new one\n",
    "df"
   ]
  },
  {
   "cell_type": "code",
   "execution_count": 39,
   "id": "0c43eb27",
   "metadata": {},
   "outputs": [
    {
     "data": {
      "text/html": [
       "<div>\n",
       "<style scoped>\n",
       "    .dataframe tbody tr th:only-of-type {\n",
       "        vertical-align: middle;\n",
       "    }\n",
       "\n",
       "    .dataframe tbody tr th {\n",
       "        vertical-align: top;\n",
       "    }\n",
       "\n",
       "    .dataframe thead th {\n",
       "        text-align: right;\n",
       "    }\n",
       "</style>\n",
       "<table border=\"1\" class=\"dataframe\">\n",
       "  <thead>\n",
       "    <tr style=\"text-align: right;\">\n",
       "      <th></th>\n",
       "      <th>email</th>\n",
       "      <th>full_name</th>\n",
       "    </tr>\n",
       "  </thead>\n",
       "  <tbody>\n",
       "    <tr>\n",
       "      <th>0</th>\n",
       "      <td>AZHAR@GMAIL.COM</td>\n",
       "      <td>AZHAR_SAHITO</td>\n",
       "    </tr>\n",
       "    <tr>\n",
       "      <th>1</th>\n",
       "      <td>razaChandio@gmail.com</td>\n",
       "      <td>RAZA_SAHITO</td>\n",
       "    </tr>\n",
       "    <tr>\n",
       "      <th>2</th>\n",
       "      <td>ZOHAIB12@GMAIL.COM</td>\n",
       "      <td>ZOHAIB_CHANDIO</td>\n",
       "    </tr>\n",
       "    <tr>\n",
       "      <th>3</th>\n",
       "      <td>HAMZA@GMAIL.COM</td>\n",
       "      <td>HUMZA_ABBASI</td>\n",
       "    </tr>\n",
       "    <tr>\n",
       "      <th>4</th>\n",
       "      <td>AHMED@GMAIL.COM</td>\n",
       "      <td>AHMED_MARI</td>\n",
       "    </tr>\n",
       "  </tbody>\n",
       "</table>\n",
       "</div>"
      ],
      "text/plain": [
       "                   email       full_name\n",
       "0        AZHAR@GMAIL.COM    AZHAR_SAHITO\n",
       "1  razaChandio@gmail.com     RAZA_SAHITO\n",
       "2     ZOHAIB12@GMAIL.COM  ZOHAIB_CHANDIO\n",
       "3        HAMZA@GMAIL.COM    HUMZA_ABBASI\n",
       "4        AHMED@GMAIL.COM      AHMED_MARI"
      ]
     },
     "execution_count": 39,
     "metadata": {},
     "output_type": "execute_result"
    }
   ],
   "source": [
    "df.drop(columns=['last','first'],inplace=True) # removing columns\n",
    "df"
   ]
  },
  {
   "cell_type": "code",
   "execution_count": 40,
   "id": "7d210861",
   "metadata": {},
   "outputs": [
    {
     "data": {
      "text/plain": [
       "0      [AZHAR, SAHITO]\n",
       "1       [RAZA, SAHITO]\n",
       "2    [ZOHAIB, CHANDIO]\n",
       "3      [HUMZA, ABBASI]\n",
       "4        [AHMED, MARI]\n",
       "Name: full_name, dtype: object"
      ]
     },
     "execution_count": 40,
     "metadata": {},
     "output_type": "execute_result"
    }
   ],
   "source": [
    "df['full_name'].str.split('_')"
   ]
  },
  {
   "cell_type": "code",
   "execution_count": 41,
   "id": "3ccc47b5",
   "metadata": {},
   "outputs": [
    {
     "data": {
      "text/html": [
       "<div>\n",
       "<style scoped>\n",
       "    .dataframe tbody tr th:only-of-type {\n",
       "        vertical-align: middle;\n",
       "    }\n",
       "\n",
       "    .dataframe tbody tr th {\n",
       "        vertical-align: top;\n",
       "    }\n",
       "\n",
       "    .dataframe thead th {\n",
       "        text-align: right;\n",
       "    }\n",
       "</style>\n",
       "<table border=\"1\" class=\"dataframe\">\n",
       "  <thead>\n",
       "    <tr style=\"text-align: right;\">\n",
       "      <th></th>\n",
       "      <th>0</th>\n",
       "      <th>1</th>\n",
       "    </tr>\n",
       "  </thead>\n",
       "  <tbody>\n",
       "    <tr>\n",
       "      <th>0</th>\n",
       "      <td>AZHAR</td>\n",
       "      <td>SAHITO</td>\n",
       "    </tr>\n",
       "    <tr>\n",
       "      <th>1</th>\n",
       "      <td>RAZA</td>\n",
       "      <td>SAHITO</td>\n",
       "    </tr>\n",
       "    <tr>\n",
       "      <th>2</th>\n",
       "      <td>ZOHAIB</td>\n",
       "      <td>CHANDIO</td>\n",
       "    </tr>\n",
       "    <tr>\n",
       "      <th>3</th>\n",
       "      <td>HUMZA</td>\n",
       "      <td>ABBASI</td>\n",
       "    </tr>\n",
       "    <tr>\n",
       "      <th>4</th>\n",
       "      <td>AHMED</td>\n",
       "      <td>MARI</td>\n",
       "    </tr>\n",
       "  </tbody>\n",
       "</table>\n",
       "</div>"
      ],
      "text/plain": [
       "        0        1\n",
       "0   AZHAR   SAHITO\n",
       "1    RAZA   SAHITO\n",
       "2  ZOHAIB  CHANDIO\n",
       "3   HUMZA   ABBASI\n",
       "4   AHMED     MARI"
      ]
     },
     "execution_count": 41,
     "metadata": {},
     "output_type": "execute_result"
    }
   ],
   "source": [
    "df['full_name'].str.split('_', expand=True) #Expand gives new array"
   ]
  },
  {
   "cell_type": "code",
   "execution_count": 42,
   "id": "621c7bf0",
   "metadata": {},
   "outputs": [
    {
     "data": {
      "text/html": [
       "<div>\n",
       "<style scoped>\n",
       "    .dataframe tbody tr th:only-of-type {\n",
       "        vertical-align: middle;\n",
       "    }\n",
       "\n",
       "    .dataframe tbody tr th {\n",
       "        vertical-align: top;\n",
       "    }\n",
       "\n",
       "    .dataframe thead th {\n",
       "        text-align: right;\n",
       "    }\n",
       "</style>\n",
       "<table border=\"1\" class=\"dataframe\">\n",
       "  <thead>\n",
       "    <tr style=\"text-align: right;\">\n",
       "      <th></th>\n",
       "      <th>email</th>\n",
       "      <th>full_name</th>\n",
       "      <th>first</th>\n",
       "      <th>last</th>\n",
       "    </tr>\n",
       "  </thead>\n",
       "  <tbody>\n",
       "    <tr>\n",
       "      <th>0</th>\n",
       "      <td>AZHAR@GMAIL.COM</td>\n",
       "      <td>AZHAR_SAHITO</td>\n",
       "      <td>AZHAR</td>\n",
       "      <td>SAHITO</td>\n",
       "    </tr>\n",
       "    <tr>\n",
       "      <th>1</th>\n",
       "      <td>razaChandio@gmail.com</td>\n",
       "      <td>RAZA_SAHITO</td>\n",
       "      <td>RAZA</td>\n",
       "      <td>SAHITO</td>\n",
       "    </tr>\n",
       "    <tr>\n",
       "      <th>2</th>\n",
       "      <td>ZOHAIB12@GMAIL.COM</td>\n",
       "      <td>ZOHAIB_CHANDIO</td>\n",
       "      <td>ZOHAIB</td>\n",
       "      <td>CHANDIO</td>\n",
       "    </tr>\n",
       "    <tr>\n",
       "      <th>3</th>\n",
       "      <td>HAMZA@GMAIL.COM</td>\n",
       "      <td>HUMZA_ABBASI</td>\n",
       "      <td>HUMZA</td>\n",
       "      <td>ABBASI</td>\n",
       "    </tr>\n",
       "    <tr>\n",
       "      <th>4</th>\n",
       "      <td>AHMED@GMAIL.COM</td>\n",
       "      <td>AHMED_MARI</td>\n",
       "      <td>AHMED</td>\n",
       "      <td>MARI</td>\n",
       "    </tr>\n",
       "  </tbody>\n",
       "</table>\n",
       "</div>"
      ],
      "text/plain": [
       "                   email       full_name   first     last\n",
       "0        AZHAR@GMAIL.COM    AZHAR_SAHITO   AZHAR   SAHITO\n",
       "1  razaChandio@gmail.com     RAZA_SAHITO    RAZA   SAHITO\n",
       "2     ZOHAIB12@GMAIL.COM  ZOHAIB_CHANDIO  ZOHAIB  CHANDIO\n",
       "3        HAMZA@GMAIL.COM    HUMZA_ABBASI   HUMZA   ABBASI\n",
       "4        AHMED@GMAIL.COM      AHMED_MARI   AHMED     MARI"
      ]
     },
     "execution_count": 42,
     "metadata": {},
     "output_type": "execute_result"
    }
   ],
   "source": [
    "df[['first','last']] = df['full_name'].str.split('_', expand=True) # adding first and last column\n",
    "df"
   ]
  },
  {
   "cell_type": "code",
   "execution_count": 43,
   "id": "5b60ee9e",
   "metadata": {},
   "outputs": [
    {
     "name": "stderr",
     "output_type": "stream",
     "text": [
      "C:\\Users\\asgha\\AppData\\Local\\Temp\\ipykernel_6152\\2589580077.py:1: FutureWarning: The frame.append method is deprecated and will be removed from pandas in a future version. Use pandas.concat instead.\n",
      "  df.append({'first':\"Tony\",'last':'Stark'},ignore_index=True)\n"
     ]
    },
    {
     "data": {
      "text/html": [
       "<div>\n",
       "<style scoped>\n",
       "    .dataframe tbody tr th:only-of-type {\n",
       "        vertical-align: middle;\n",
       "    }\n",
       "\n",
       "    .dataframe tbody tr th {\n",
       "        vertical-align: top;\n",
       "    }\n",
       "\n",
       "    .dataframe thead th {\n",
       "        text-align: right;\n",
       "    }\n",
       "</style>\n",
       "<table border=\"1\" class=\"dataframe\">\n",
       "  <thead>\n",
       "    <tr style=\"text-align: right;\">\n",
       "      <th></th>\n",
       "      <th>email</th>\n",
       "      <th>full_name</th>\n",
       "      <th>first</th>\n",
       "      <th>last</th>\n",
       "    </tr>\n",
       "  </thead>\n",
       "  <tbody>\n",
       "    <tr>\n",
       "      <th>0</th>\n",
       "      <td>AZHAR@GMAIL.COM</td>\n",
       "      <td>AZHAR_SAHITO</td>\n",
       "      <td>AZHAR</td>\n",
       "      <td>SAHITO</td>\n",
       "    </tr>\n",
       "    <tr>\n",
       "      <th>1</th>\n",
       "      <td>razaChandio@gmail.com</td>\n",
       "      <td>RAZA_SAHITO</td>\n",
       "      <td>RAZA</td>\n",
       "      <td>SAHITO</td>\n",
       "    </tr>\n",
       "    <tr>\n",
       "      <th>2</th>\n",
       "      <td>ZOHAIB12@GMAIL.COM</td>\n",
       "      <td>ZOHAIB_CHANDIO</td>\n",
       "      <td>ZOHAIB</td>\n",
       "      <td>CHANDIO</td>\n",
       "    </tr>\n",
       "    <tr>\n",
       "      <th>3</th>\n",
       "      <td>HAMZA@GMAIL.COM</td>\n",
       "      <td>HUMZA_ABBASI</td>\n",
       "      <td>HUMZA</td>\n",
       "      <td>ABBASI</td>\n",
       "    </tr>\n",
       "    <tr>\n",
       "      <th>4</th>\n",
       "      <td>AHMED@GMAIL.COM</td>\n",
       "      <td>AHMED_MARI</td>\n",
       "      <td>AHMED</td>\n",
       "      <td>MARI</td>\n",
       "    </tr>\n",
       "    <tr>\n",
       "      <th>5</th>\n",
       "      <td>NaN</td>\n",
       "      <td>NaN</td>\n",
       "      <td>Tony</td>\n",
       "      <td>Stark</td>\n",
       "    </tr>\n",
       "  </tbody>\n",
       "</table>\n",
       "</div>"
      ],
      "text/plain": [
       "                   email       full_name   first     last\n",
       "0        AZHAR@GMAIL.COM    AZHAR_SAHITO   AZHAR   SAHITO\n",
       "1  razaChandio@gmail.com     RAZA_SAHITO    RAZA   SAHITO\n",
       "2     ZOHAIB12@GMAIL.COM  ZOHAIB_CHANDIO  ZOHAIB  CHANDIO\n",
       "3        HAMZA@GMAIL.COM    HUMZA_ABBASI   HUMZA   ABBASI\n",
       "4        AHMED@GMAIL.COM      AHMED_MARI   AHMED     MARI\n",
       "5                    NaN             NaN    Tony    Stark"
      ]
     },
     "execution_count": 43,
     "metadata": {},
     "output_type": "execute_result"
    }
   ],
   "source": [
    "df.append({'first':\"Tony\",'last':'Stark'},ignore_index=True) "
   ]
  },
  {
   "cell_type": "code",
   "execution_count": 44,
   "id": "d87a885d",
   "metadata": {},
   "outputs": [
    {
     "data": {
      "text/html": [
       "<div>\n",
       "<style scoped>\n",
       "    .dataframe tbody tr th:only-of-type {\n",
       "        vertical-align: middle;\n",
       "    }\n",
       "\n",
       "    .dataframe tbody tr th {\n",
       "        vertical-align: top;\n",
       "    }\n",
       "\n",
       "    .dataframe thead th {\n",
       "        text-align: right;\n",
       "    }\n",
       "</style>\n",
       "<table border=\"1\" class=\"dataframe\">\n",
       "  <thead>\n",
       "    <tr style=\"text-align: right;\">\n",
       "      <th></th>\n",
       "      <th>first</th>\n",
       "      <th>last</th>\n",
       "      <th>email</th>\n",
       "    </tr>\n",
       "  </thead>\n",
       "  <tbody>\n",
       "    <tr>\n",
       "      <th>0</th>\n",
       "      <td>Iron</td>\n",
       "      <td>man</td>\n",
       "      <td>inronmain07@gmail.com</td>\n",
       "    </tr>\n",
       "    <tr>\n",
       "      <th>1</th>\n",
       "      <td>Captain</td>\n",
       "      <td>america</td>\n",
       "      <td>captainam@gmail.com</td>\n",
       "    </tr>\n",
       "  </tbody>\n",
       "</table>\n",
       "</div>"
      ],
      "text/plain": [
       "     first     last                  email\n",
       "0     Iron      man  inronmain07@gmail.com\n",
       "1  Captain  america    captainam@gmail.com"
      ]
     },
     "execution_count": 44,
     "metadata": {},
     "output_type": "execute_result"
    }
   ],
   "source": [
    "data = {\n",
    "    'first':[\"Iron\", \"Captain\"],\n",
    "    'last' :['man', 'america'],\n",
    "    'email':['inronmain07@gmail.com', 'captainam@gmail.com']\n",
    "}\n",
    "df2 =pd.DataFrame(data)\n",
    "df2"
   ]
  },
  {
   "cell_type": "code",
   "execution_count": 45,
   "id": "492e277f",
   "metadata": {},
   "outputs": [
    {
     "data": {
      "text/html": [
       "<div>\n",
       "<style scoped>\n",
       "    .dataframe tbody tr th:only-of-type {\n",
       "        vertical-align: middle;\n",
       "    }\n",
       "\n",
       "    .dataframe tbody tr th {\n",
       "        vertical-align: top;\n",
       "    }\n",
       "\n",
       "    .dataframe thead th {\n",
       "        text-align: right;\n",
       "    }\n",
       "</style>\n",
       "<table border=\"1\" class=\"dataframe\">\n",
       "  <thead>\n",
       "    <tr style=\"text-align: right;\">\n",
       "      <th></th>\n",
       "      <th>email</th>\n",
       "      <th>full_name</th>\n",
       "      <th>first</th>\n",
       "      <th>last</th>\n",
       "    </tr>\n",
       "  </thead>\n",
       "  <tbody>\n",
       "    <tr>\n",
       "      <th>0</th>\n",
       "      <td>AZHAR@GMAIL.COM</td>\n",
       "      <td>AZHAR_SAHITO</td>\n",
       "      <td>AZHAR</td>\n",
       "      <td>SAHITO</td>\n",
       "    </tr>\n",
       "    <tr>\n",
       "      <th>1</th>\n",
       "      <td>razaChandio@gmail.com</td>\n",
       "      <td>RAZA_SAHITO</td>\n",
       "      <td>RAZA</td>\n",
       "      <td>SAHITO</td>\n",
       "    </tr>\n",
       "    <tr>\n",
       "      <th>2</th>\n",
       "      <td>ZOHAIB12@GMAIL.COM</td>\n",
       "      <td>ZOHAIB_CHANDIO</td>\n",
       "      <td>ZOHAIB</td>\n",
       "      <td>CHANDIO</td>\n",
       "    </tr>\n",
       "    <tr>\n",
       "      <th>3</th>\n",
       "      <td>HAMZA@GMAIL.COM</td>\n",
       "      <td>HUMZA_ABBASI</td>\n",
       "      <td>HUMZA</td>\n",
       "      <td>ABBASI</td>\n",
       "    </tr>\n",
       "    <tr>\n",
       "      <th>4</th>\n",
       "      <td>AHMED@GMAIL.COM</td>\n",
       "      <td>AHMED_MARI</td>\n",
       "      <td>AHMED</td>\n",
       "      <td>MARI</td>\n",
       "    </tr>\n",
       "    <tr>\n",
       "      <th>5</th>\n",
       "      <td>inronmain07@gmail.com</td>\n",
       "      <td>NaN</td>\n",
       "      <td>Iron</td>\n",
       "      <td>man</td>\n",
       "    </tr>\n",
       "    <tr>\n",
       "      <th>6</th>\n",
       "      <td>captainam@gmail.com</td>\n",
       "      <td>NaN</td>\n",
       "      <td>Captain</td>\n",
       "      <td>america</td>\n",
       "    </tr>\n",
       "  </tbody>\n",
       "</table>\n",
       "</div>"
      ],
      "text/plain": [
       "                   email       full_name    first     last\n",
       "0        AZHAR@GMAIL.COM    AZHAR_SAHITO    AZHAR   SAHITO\n",
       "1  razaChandio@gmail.com     RAZA_SAHITO     RAZA   SAHITO\n",
       "2     ZOHAIB12@GMAIL.COM  ZOHAIB_CHANDIO   ZOHAIB  CHANDIO\n",
       "3        HAMZA@GMAIL.COM    HUMZA_ABBASI    HUMZA   ABBASI\n",
       "4        AHMED@GMAIL.COM      AHMED_MARI    AHMED     MARI\n",
       "5  inronmain07@gmail.com             NaN     Iron      man\n",
       "6    captainam@gmail.com             NaN  Captain  america"
      ]
     },
     "execution_count": 45,
     "metadata": {},
     "output_type": "execute_result"
    }
   ],
   "source": [
    "# df=df.append(df2, ignore_index=True, sort=True) # old method \n",
    "df= pd.concat([df,df2], ignore_index=True) #new method\n",
    "df"
   ]
  },
  {
   "cell_type": "code",
   "execution_count": 46,
   "id": "712ccd68",
   "metadata": {},
   "outputs": [
    {
     "data": {
      "text/html": [
       "<div>\n",
       "<style scoped>\n",
       "    .dataframe tbody tr th:only-of-type {\n",
       "        vertical-align: middle;\n",
       "    }\n",
       "\n",
       "    .dataframe tbody tr th {\n",
       "        vertical-align: top;\n",
       "    }\n",
       "\n",
       "    .dataframe thead th {\n",
       "        text-align: right;\n",
       "    }\n",
       "</style>\n",
       "<table border=\"1\" class=\"dataframe\">\n",
       "  <thead>\n",
       "    <tr style=\"text-align: right;\">\n",
       "      <th></th>\n",
       "      <th>email</th>\n",
       "      <th>full_name</th>\n",
       "      <th>first</th>\n",
       "      <th>last</th>\n",
       "    </tr>\n",
       "  </thead>\n",
       "  <tbody>\n",
       "    <tr>\n",
       "      <th>0</th>\n",
       "      <td>AZHAR@GMAIL.COM</td>\n",
       "      <td>AZHAR_SAHITO</td>\n",
       "      <td>AZHAR</td>\n",
       "      <td>SAHITO</td>\n",
       "    </tr>\n",
       "    <tr>\n",
       "      <th>1</th>\n",
       "      <td>razaChandio@gmail.com</td>\n",
       "      <td>RAZA_SAHITO</td>\n",
       "      <td>RAZA</td>\n",
       "      <td>SAHITO</td>\n",
       "    </tr>\n",
       "    <tr>\n",
       "      <th>2</th>\n",
       "      <td>ZOHAIB12@GMAIL.COM</td>\n",
       "      <td>ZOHAIB_CHANDIO</td>\n",
       "      <td>ZOHAIB</td>\n",
       "      <td>CHANDIO</td>\n",
       "    </tr>\n",
       "    <tr>\n",
       "      <th>3</th>\n",
       "      <td>HAMZA@GMAIL.COM</td>\n",
       "      <td>HUMZA_ABBASI</td>\n",
       "      <td>HUMZA</td>\n",
       "      <td>ABBASI</td>\n",
       "    </tr>\n",
       "    <tr>\n",
       "      <th>4</th>\n",
       "      <td>AHMED@GMAIL.COM</td>\n",
       "      <td>AHMED_MARI</td>\n",
       "      <td>AHMED</td>\n",
       "      <td>MARI</td>\n",
       "    </tr>\n",
       "    <tr>\n",
       "      <th>5</th>\n",
       "      <td>inronmain07@gmail.com</td>\n",
       "      <td>Iron_man</td>\n",
       "      <td>Iron</td>\n",
       "      <td>man</td>\n",
       "    </tr>\n",
       "    <tr>\n",
       "      <th>6</th>\n",
       "      <td>captainam@gmail.com</td>\n",
       "      <td>Captain_america</td>\n",
       "      <td>Captain</td>\n",
       "      <td>america</td>\n",
       "    </tr>\n",
       "  </tbody>\n",
       "</table>\n",
       "</div>"
      ],
      "text/plain": [
       "                   email        full_name    first     last\n",
       "0        AZHAR@GMAIL.COM     AZHAR_SAHITO    AZHAR   SAHITO\n",
       "1  razaChandio@gmail.com      RAZA_SAHITO     RAZA   SAHITO\n",
       "2     ZOHAIB12@GMAIL.COM   ZOHAIB_CHANDIO   ZOHAIB  CHANDIO\n",
       "3        HAMZA@GMAIL.COM     HUMZA_ABBASI    HUMZA   ABBASI\n",
       "4        AHMED@GMAIL.COM       AHMED_MARI    AHMED     MARI\n",
       "5  inronmain07@gmail.com         Iron_man     Iron      man\n",
       "6    captainam@gmail.com  Captain_america  Captain  america"
      ]
     },
     "execution_count": 46,
     "metadata": {},
     "output_type": "execute_result"
    }
   ],
   "source": [
    "df['full_name'] = df['first']+'_'+df['last']\n",
    "df"
   ]
  },
  {
   "cell_type": "code",
   "execution_count": 47,
   "id": "e1977001",
   "metadata": {},
   "outputs": [
    {
     "data": {
      "text/html": [
       "<div>\n",
       "<style scoped>\n",
       "    .dataframe tbody tr th:only-of-type {\n",
       "        vertical-align: middle;\n",
       "    }\n",
       "\n",
       "    .dataframe tbody tr th {\n",
       "        vertical-align: top;\n",
       "    }\n",
       "\n",
       "    .dataframe thead th {\n",
       "        text-align: right;\n",
       "    }\n",
       "</style>\n",
       "<table border=\"1\" class=\"dataframe\">\n",
       "  <thead>\n",
       "    <tr style=\"text-align: right;\">\n",
       "      <th></th>\n",
       "      <th>email</th>\n",
       "      <th>full_name</th>\n",
       "      <th>first</th>\n",
       "      <th>last</th>\n",
       "    </tr>\n",
       "  </thead>\n",
       "  <tbody>\n",
       "    <tr>\n",
       "      <th>0</th>\n",
       "      <td>AZHAR@GMAIL.COM</td>\n",
       "      <td>AZHAR_SAHITO</td>\n",
       "      <td>AZHAR</td>\n",
       "      <td>SAHITO</td>\n",
       "    </tr>\n",
       "    <tr>\n",
       "      <th>1</th>\n",
       "      <td>razaChandio@gmail.com</td>\n",
       "      <td>RAZA_SAHITO</td>\n",
       "      <td>RAZA</td>\n",
       "      <td>SAHITO</td>\n",
       "    </tr>\n",
       "    <tr>\n",
       "      <th>2</th>\n",
       "      <td>ZOHAIB12@GMAIL.COM</td>\n",
       "      <td>ZOHAIB_CHANDIO</td>\n",
       "      <td>ZOHAIB</td>\n",
       "      <td>CHANDIO</td>\n",
       "    </tr>\n",
       "    <tr>\n",
       "      <th>3</th>\n",
       "      <td>HAMZA@GMAIL.COM</td>\n",
       "      <td>HUMZA_ABBASI</td>\n",
       "      <td>HUMZA</td>\n",
       "      <td>ABBASI</td>\n",
       "    </tr>\n",
       "    <tr>\n",
       "      <th>4</th>\n",
       "      <td>AHMED@GMAIL.COM</td>\n",
       "      <td>AHMED_MARI</td>\n",
       "      <td>AHMED</td>\n",
       "      <td>MARI</td>\n",
       "    </tr>\n",
       "    <tr>\n",
       "      <th>6</th>\n",
       "      <td>captainam@gmail.com</td>\n",
       "      <td>Captain_america</td>\n",
       "      <td>Captain</td>\n",
       "      <td>america</td>\n",
       "    </tr>\n",
       "  </tbody>\n",
       "</table>\n",
       "</div>"
      ],
      "text/plain": [
       "                   email        full_name    first     last\n",
       "0        AZHAR@GMAIL.COM     AZHAR_SAHITO    AZHAR   SAHITO\n",
       "1  razaChandio@gmail.com      RAZA_SAHITO     RAZA   SAHITO\n",
       "2     ZOHAIB12@GMAIL.COM   ZOHAIB_CHANDIO   ZOHAIB  CHANDIO\n",
       "3        HAMZA@GMAIL.COM     HUMZA_ABBASI    HUMZA   ABBASI\n",
       "4        AHMED@GMAIL.COM       AHMED_MARI    AHMED     MARI\n",
       "6    captainam@gmail.com  Captain_america  Captain  america"
      ]
     },
     "execution_count": 47,
     "metadata": {},
     "output_type": "execute_result"
    }
   ],
   "source": [
    "df.drop(index=5)"
   ]
  },
  {
   "cell_type": "code",
   "execution_count": 48,
   "id": "7815ea4d",
   "metadata": {},
   "outputs": [
    {
     "data": {
      "text/html": [
       "<div>\n",
       "<style scoped>\n",
       "    .dataframe tbody tr th:only-of-type {\n",
       "        vertical-align: middle;\n",
       "    }\n",
       "\n",
       "    .dataframe tbody tr th {\n",
       "        vertical-align: top;\n",
       "    }\n",
       "\n",
       "    .dataframe thead th {\n",
       "        text-align: right;\n",
       "    }\n",
       "</style>\n",
       "<table border=\"1\" class=\"dataframe\">\n",
       "  <thead>\n",
       "    <tr style=\"text-align: right;\">\n",
       "      <th></th>\n",
       "      <th>email</th>\n",
       "      <th>full_name</th>\n",
       "      <th>first</th>\n",
       "      <th>last</th>\n",
       "    </tr>\n",
       "  </thead>\n",
       "  <tbody>\n",
       "    <tr>\n",
       "      <th>0</th>\n",
       "      <td>AZHAR@GMAIL.COM</td>\n",
       "      <td>AZHAR_SAHITO</td>\n",
       "      <td>AZHAR</td>\n",
       "      <td>SAHITO</td>\n",
       "    </tr>\n",
       "    <tr>\n",
       "      <th>1</th>\n",
       "      <td>razaChandio@gmail.com</td>\n",
       "      <td>RAZA_SAHITO</td>\n",
       "      <td>RAZA</td>\n",
       "      <td>SAHITO</td>\n",
       "    </tr>\n",
       "    <tr>\n",
       "      <th>3</th>\n",
       "      <td>HAMZA@GMAIL.COM</td>\n",
       "      <td>HUMZA_ABBASI</td>\n",
       "      <td>HUMZA</td>\n",
       "      <td>ABBASI</td>\n",
       "    </tr>\n",
       "    <tr>\n",
       "      <th>4</th>\n",
       "      <td>AHMED@GMAIL.COM</td>\n",
       "      <td>AHMED_MARI</td>\n",
       "      <td>AHMED</td>\n",
       "      <td>MARI</td>\n",
       "    </tr>\n",
       "    <tr>\n",
       "      <th>5</th>\n",
       "      <td>inronmain07@gmail.com</td>\n",
       "      <td>Iron_man</td>\n",
       "      <td>Iron</td>\n",
       "      <td>man</td>\n",
       "    </tr>\n",
       "    <tr>\n",
       "      <th>6</th>\n",
       "      <td>captainam@gmail.com</td>\n",
       "      <td>Captain_america</td>\n",
       "      <td>Captain</td>\n",
       "      <td>america</td>\n",
       "    </tr>\n",
       "  </tbody>\n",
       "</table>\n",
       "</div>"
      ],
      "text/plain": [
       "                   email        full_name    first     last\n",
       "0        AZHAR@GMAIL.COM     AZHAR_SAHITO    AZHAR   SAHITO\n",
       "1  razaChandio@gmail.com      RAZA_SAHITO     RAZA   SAHITO\n",
       "3        HAMZA@GMAIL.COM     HUMZA_ABBASI    HUMZA   ABBASI\n",
       "4        AHMED@GMAIL.COM       AHMED_MARI    AHMED     MARI\n",
       "5  inronmain07@gmail.com         Iron_man     Iron      man\n",
       "6    captainam@gmail.com  Captain_america  Captain  america"
      ]
     },
     "execution_count": 48,
     "metadata": {},
     "output_type": "execute_result"
    }
   ],
   "source": [
    "df.drop(index=df[df['first']  =='ZOHAIB'].index)\n",
    "# or \n",
    "felt = df['first']  =='ZOHAIB'\n",
    "df.drop(index=df[felt].index)"
   ]
  },
  {
   "cell_type": "code",
   "execution_count": 49,
   "id": "69f0bc19",
   "metadata": {},
   "outputs": [],
   "source": [
    "df= df.applymap(str.lower)"
   ]
  },
  {
   "cell_type": "markdown",
   "id": "6601b658",
   "metadata": {},
   "source": [
    "# Sorting Data"
   ]
  },
  {
   "cell_type": "code",
   "execution_count": 50,
   "id": "ce49fc82",
   "metadata": {},
   "outputs": [
    {
     "data": {
      "text/html": [
       "<div>\n",
       "<style scoped>\n",
       "    .dataframe tbody tr th:only-of-type {\n",
       "        vertical-align: middle;\n",
       "    }\n",
       "\n",
       "    .dataframe tbody tr th {\n",
       "        vertical-align: top;\n",
       "    }\n",
       "\n",
       "    .dataframe thead th {\n",
       "        text-align: right;\n",
       "    }\n",
       "</style>\n",
       "<table border=\"1\" class=\"dataframe\">\n",
       "  <thead>\n",
       "    <tr style=\"text-align: right;\">\n",
       "      <th></th>\n",
       "      <th>email</th>\n",
       "      <th>full_name</th>\n",
       "      <th>first</th>\n",
       "      <th>last</th>\n",
       "    </tr>\n",
       "  </thead>\n",
       "  <tbody>\n",
       "    <tr>\n",
       "      <th>3</th>\n",
       "      <td>hamza@gmail.com</td>\n",
       "      <td>humza_abbasi</td>\n",
       "      <td>humza</td>\n",
       "      <td>abbasi</td>\n",
       "    </tr>\n",
       "    <tr>\n",
       "      <th>6</th>\n",
       "      <td>captainam@gmail.com</td>\n",
       "      <td>captain_america</td>\n",
       "      <td>captain</td>\n",
       "      <td>america</td>\n",
       "    </tr>\n",
       "    <tr>\n",
       "      <th>2</th>\n",
       "      <td>zohaib12@gmail.com</td>\n",
       "      <td>zohaib_chandio</td>\n",
       "      <td>zohaib</td>\n",
       "      <td>chandio</td>\n",
       "    </tr>\n",
       "    <tr>\n",
       "      <th>5</th>\n",
       "      <td>inronmain07@gmail.com</td>\n",
       "      <td>iron_man</td>\n",
       "      <td>iron</td>\n",
       "      <td>man</td>\n",
       "    </tr>\n",
       "    <tr>\n",
       "      <th>4</th>\n",
       "      <td>ahmed@gmail.com</td>\n",
       "      <td>ahmed_mari</td>\n",
       "      <td>ahmed</td>\n",
       "      <td>mari</td>\n",
       "    </tr>\n",
       "    <tr>\n",
       "      <th>0</th>\n",
       "      <td>azhar@gmail.com</td>\n",
       "      <td>azhar_sahito</td>\n",
       "      <td>azhar</td>\n",
       "      <td>sahito</td>\n",
       "    </tr>\n",
       "    <tr>\n",
       "      <th>1</th>\n",
       "      <td>razachandio@gmail.com</td>\n",
       "      <td>raza_sahito</td>\n",
       "      <td>raza</td>\n",
       "      <td>sahito</td>\n",
       "    </tr>\n",
       "  </tbody>\n",
       "</table>\n",
       "</div>"
      ],
      "text/plain": [
       "                   email        full_name    first     last\n",
       "3        hamza@gmail.com     humza_abbasi    humza   abbasi\n",
       "6    captainam@gmail.com  captain_america  captain  america\n",
       "2     zohaib12@gmail.com   zohaib_chandio   zohaib  chandio\n",
       "5  inronmain07@gmail.com         iron_man     iron      man\n",
       "4        ahmed@gmail.com       ahmed_mari    ahmed     mari\n",
       "0        azhar@gmail.com     azhar_sahito    azhar   sahito\n",
       "1  razachandio@gmail.com      raza_sahito     raza   sahito"
      ]
     },
     "execution_count": 50,
     "metadata": {},
     "output_type": "execute_result"
    }
   ],
   "source": [
    "df.sort_values(by='last')\n",
    "df.sort_values(by='last', ascending=False)\n",
    "df.sort_values(by=['last','first']) # if last names same then sort with first name"
   ]
  },
  {
   "cell_type": "code",
   "execution_count": 51,
   "id": "01023028",
   "metadata": {},
   "outputs": [
    {
     "data": {
      "text/html": [
       "<div>\n",
       "<style scoped>\n",
       "    .dataframe tbody tr th:only-of-type {\n",
       "        vertical-align: middle;\n",
       "    }\n",
       "\n",
       "    .dataframe tbody tr th {\n",
       "        vertical-align: top;\n",
       "    }\n",
       "\n",
       "    .dataframe thead th {\n",
       "        text-align: right;\n",
       "    }\n",
       "</style>\n",
       "<table border=\"1\" class=\"dataframe\">\n",
       "  <thead>\n",
       "    <tr style=\"text-align: right;\">\n",
       "      <th></th>\n",
       "      <th>email</th>\n",
       "      <th>full_name</th>\n",
       "      <th>first</th>\n",
       "      <th>last</th>\n",
       "    </tr>\n",
       "  </thead>\n",
       "  <tbody>\n",
       "    <tr>\n",
       "      <th>6</th>\n",
       "      <td>captainam@gmail.com</td>\n",
       "      <td>captain_america</td>\n",
       "      <td>captain</td>\n",
       "      <td>america</td>\n",
       "    </tr>\n",
       "    <tr>\n",
       "      <th>5</th>\n",
       "      <td>inronmain07@gmail.com</td>\n",
       "      <td>iron_man</td>\n",
       "      <td>iron</td>\n",
       "      <td>man</td>\n",
       "    </tr>\n",
       "    <tr>\n",
       "      <th>4</th>\n",
       "      <td>ahmed@gmail.com</td>\n",
       "      <td>ahmed_mari</td>\n",
       "      <td>ahmed</td>\n",
       "      <td>mari</td>\n",
       "    </tr>\n",
       "    <tr>\n",
       "      <th>3</th>\n",
       "      <td>hamza@gmail.com</td>\n",
       "      <td>humza_abbasi</td>\n",
       "      <td>humza</td>\n",
       "      <td>abbasi</td>\n",
       "    </tr>\n",
       "    <tr>\n",
       "      <th>2</th>\n",
       "      <td>zohaib12@gmail.com</td>\n",
       "      <td>zohaib_chandio</td>\n",
       "      <td>zohaib</td>\n",
       "      <td>chandio</td>\n",
       "    </tr>\n",
       "    <tr>\n",
       "      <th>1</th>\n",
       "      <td>razachandio@gmail.com</td>\n",
       "      <td>raza_sahito</td>\n",
       "      <td>raza</td>\n",
       "      <td>sahito</td>\n",
       "    </tr>\n",
       "    <tr>\n",
       "      <th>0</th>\n",
       "      <td>azhar@gmail.com</td>\n",
       "      <td>azhar_sahito</td>\n",
       "      <td>azhar</td>\n",
       "      <td>sahito</td>\n",
       "    </tr>\n",
       "  </tbody>\n",
       "</table>\n",
       "</div>"
      ],
      "text/plain": [
       "                   email        full_name    first     last\n",
       "6    captainam@gmail.com  captain_america  captain  america\n",
       "5  inronmain07@gmail.com         iron_man     iron      man\n",
       "4        ahmed@gmail.com       ahmed_mari    ahmed     mari\n",
       "3        hamza@gmail.com     humza_abbasi    humza   abbasi\n",
       "2     zohaib12@gmail.com   zohaib_chandio   zohaib  chandio\n",
       "1  razachandio@gmail.com      raza_sahito     raza   sahito\n",
       "0        azhar@gmail.com     azhar_sahito    azhar   sahito"
      ]
     },
     "execution_count": 51,
     "metadata": {},
     "output_type": "execute_result"
    }
   ],
   "source": [
    "df.sort_index()\n",
    "df.sort_index(ascending=False)"
   ]
  },
  {
   "cell_type": "code",
   "execution_count": 52,
   "id": "d0b67342",
   "metadata": {},
   "outputs": [
    {
     "data": {
      "text/plain": [
       "3     abbasi\n",
       "6    america\n",
       "2    chandio\n",
       "5        man\n",
       "4       mari\n",
       "0     sahito\n",
       "1     sahito\n",
       "Name: last, dtype: object"
      ]
     },
     "execution_count": 52,
     "metadata": {},
     "output_type": "execute_result"
    }
   ],
   "source": [
    "df['last'].sort_values()"
   ]
  },
  {
   "cell_type": "markdown",
   "id": "ff30b80c",
   "metadata": {},
   "source": [
    "# Cleaning Data - Casting Datatypes and Handling Missing Values"
   ]
  },
  {
   "cell_type": "code",
   "execution_count": 53,
   "id": "a7bedc20",
   "metadata": {},
   "outputs": [
    {
     "data": {
      "text/html": [
       "<div>\n",
       "<style scoped>\n",
       "    .dataframe tbody tr th:only-of-type {\n",
       "        vertical-align: middle;\n",
       "    }\n",
       "\n",
       "    .dataframe tbody tr th {\n",
       "        vertical-align: top;\n",
       "    }\n",
       "\n",
       "    .dataframe thead th {\n",
       "        text-align: right;\n",
       "    }\n",
       "</style>\n",
       "<table border=\"1\" class=\"dataframe\">\n",
       "  <thead>\n",
       "    <tr style=\"text-align: right;\">\n",
       "      <th></th>\n",
       "      <th>first</th>\n",
       "      <th>last</th>\n",
       "      <th>email</th>\n",
       "      <th>age</th>\n",
       "    </tr>\n",
       "  </thead>\n",
       "  <tbody>\n",
       "    <tr>\n",
       "      <th>0</th>\n",
       "      <td>Azhar</td>\n",
       "      <td>Ali</td>\n",
       "      <td>Azhar@gmail.com</td>\n",
       "      <td>33</td>\n",
       "    </tr>\n",
       "    <tr>\n",
       "      <th>1</th>\n",
       "      <td>Ali</td>\n",
       "      <td>Sahito</td>\n",
       "      <td>ali@gmail.com</td>\n",
       "      <td>55</td>\n",
       "    </tr>\n",
       "    <tr>\n",
       "      <th>2</th>\n",
       "      <td>sahito</td>\n",
       "      <td>Azhar</td>\n",
       "      <td>sahito@gmail.com</td>\n",
       "      <td>63</td>\n",
       "    </tr>\n",
       "    <tr>\n",
       "      <th>3</th>\n",
       "      <td>Humza</td>\n",
       "      <td>None</td>\n",
       "      <td>hamza@gmail.com</td>\n",
       "      <td>36</td>\n",
       "    </tr>\n",
       "    <tr>\n",
       "      <th>4</th>\n",
       "      <td>Ahmed</td>\n",
       "      <td>Mari</td>\n",
       "      <td>ahmed@gmail.com</td>\n",
       "      <td>None</td>\n",
       "    </tr>\n",
       "    <tr>\n",
       "      <th>5</th>\n",
       "      <td>NaN</td>\n",
       "      <td>NaN</td>\n",
       "      <td>None</td>\n",
       "      <td>None</td>\n",
       "    </tr>\n",
       "    <tr>\n",
       "      <th>6</th>\n",
       "      <td>None</td>\n",
       "      <td>NaN</td>\n",
       "      <td>NaN</td>\n",
       "      <td>Missing</td>\n",
       "    </tr>\n",
       "    <tr>\n",
       "      <th>7</th>\n",
       "      <td>NA</td>\n",
       "      <td>Missing</td>\n",
       "      <td>Anonymous@gmail.com</td>\n",
       "      <td>NA</td>\n",
       "    </tr>\n",
       "  </tbody>\n",
       "</table>\n",
       "</div>"
      ],
      "text/plain": [
       "    first     last                email      age\n",
       "0   Azhar      Ali      Azhar@gmail.com       33\n",
       "1     Ali   Sahito        ali@gmail.com       55\n",
       "2  sahito    Azhar     sahito@gmail.com       63\n",
       "3   Humza     None      hamza@gmail.com       36\n",
       "4   Ahmed     Mari      ahmed@gmail.com     None\n",
       "5     NaN      NaN                 None     None\n",
       "6    None      NaN                  NaN  Missing\n",
       "7      NA  Missing  Anonymous@gmail.com       NA"
      ]
     },
     "execution_count": 53,
     "metadata": {},
     "output_type": "execute_result"
    }
   ],
   "source": [
    "import numpy as np\n",
    "people2 = {\n",
    "    'first': ['Azhar', 'Ali', 'sahito', 'Humza', 'Ahmed', np.nan, None,\"NA\"],\n",
    "    'last' : [\"Ali\", \"Sahito\", \"Azhar\",  None, 'Mari', np.nan, np.nan, 'Missing'],\n",
    "    'email': ['Azhar@gmail.com', 'ali@gmail.com', 'sahito@gmail.com', 'hamza@gmail.com','ahmed@gmail.com', None, np.nan, \"Anonymous@gmail.com\"],\n",
    "    'age'  : ['33', '55', '63', '36', None, None, 'Missing', \"NA\"]\n",
    "\n",
    "}\n",
    "df2 = pd.DataFrame(people2)\n",
    "df2"
   ]
  },
  {
   "cell_type": "code",
   "execution_count": 54,
   "id": "8cca16e0",
   "metadata": {},
   "outputs": [
    {
     "data": {
      "text/html": [
       "<div>\n",
       "<style scoped>\n",
       "    .dataframe tbody tr th:only-of-type {\n",
       "        vertical-align: middle;\n",
       "    }\n",
       "\n",
       "    .dataframe tbody tr th {\n",
       "        vertical-align: top;\n",
       "    }\n",
       "\n",
       "    .dataframe thead th {\n",
       "        text-align: right;\n",
       "    }\n",
       "</style>\n",
       "<table border=\"1\" class=\"dataframe\">\n",
       "  <thead>\n",
       "    <tr style=\"text-align: right;\">\n",
       "      <th></th>\n",
       "      <th>first</th>\n",
       "      <th>last</th>\n",
       "      <th>email</th>\n",
       "      <th>age</th>\n",
       "    </tr>\n",
       "  </thead>\n",
       "  <tbody>\n",
       "    <tr>\n",
       "      <th>0</th>\n",
       "      <td>Azhar</td>\n",
       "      <td>Ali</td>\n",
       "      <td>Azhar@gmail.com</td>\n",
       "      <td>33</td>\n",
       "    </tr>\n",
       "    <tr>\n",
       "      <th>1</th>\n",
       "      <td>Ali</td>\n",
       "      <td>Sahito</td>\n",
       "      <td>ali@gmail.com</td>\n",
       "      <td>55</td>\n",
       "    </tr>\n",
       "    <tr>\n",
       "      <th>2</th>\n",
       "      <td>sahito</td>\n",
       "      <td>Azhar</td>\n",
       "      <td>sahito@gmail.com</td>\n",
       "      <td>63</td>\n",
       "    </tr>\n",
       "    <tr>\n",
       "      <th>7</th>\n",
       "      <td>NA</td>\n",
       "      <td>Missing</td>\n",
       "      <td>Anonymous@gmail.com</td>\n",
       "      <td>NA</td>\n",
       "    </tr>\n",
       "  </tbody>\n",
       "</table>\n",
       "</div>"
      ],
      "text/plain": [
       "    first     last                email age\n",
       "0   Azhar      Ali      Azhar@gmail.com  33\n",
       "1     Ali   Sahito        ali@gmail.com  55\n",
       "2  sahito    Azhar     sahito@gmail.com  63\n",
       "7      NA  Missing  Anonymous@gmail.com  NA"
      ]
     },
     "execution_count": 54,
     "metadata": {},
     "output_type": "execute_result"
    }
   ],
   "source": [
    "df2.dropna() # this show only rows that have all values"
   ]
  },
  {
   "cell_type": "code",
   "execution_count": 55,
   "id": "34ebd01b",
   "metadata": {},
   "outputs": [
    {
     "data": {
      "text/html": [
       "<div>\n",
       "<style scoped>\n",
       "    .dataframe tbody tr th:only-of-type {\n",
       "        vertical-align: middle;\n",
       "    }\n",
       "\n",
       "    .dataframe tbody tr th {\n",
       "        vertical-align: top;\n",
       "    }\n",
       "\n",
       "    .dataframe thead th {\n",
       "        text-align: right;\n",
       "    }\n",
       "</style>\n",
       "<table border=\"1\" class=\"dataframe\">\n",
       "  <thead>\n",
       "    <tr style=\"text-align: right;\">\n",
       "      <th></th>\n",
       "      <th>first</th>\n",
       "      <th>last</th>\n",
       "      <th>email</th>\n",
       "      <th>age</th>\n",
       "    </tr>\n",
       "  </thead>\n",
       "  <tbody>\n",
       "    <tr>\n",
       "      <th>0</th>\n",
       "      <td>Azhar</td>\n",
       "      <td>Ali</td>\n",
       "      <td>Azhar@gmail.com</td>\n",
       "      <td>33</td>\n",
       "    </tr>\n",
       "    <tr>\n",
       "      <th>1</th>\n",
       "      <td>Ali</td>\n",
       "      <td>Sahito</td>\n",
       "      <td>ali@gmail.com</td>\n",
       "      <td>55</td>\n",
       "    </tr>\n",
       "    <tr>\n",
       "      <th>2</th>\n",
       "      <td>sahito</td>\n",
       "      <td>Azhar</td>\n",
       "      <td>sahito@gmail.com</td>\n",
       "      <td>63</td>\n",
       "    </tr>\n",
       "    <tr>\n",
       "      <th>7</th>\n",
       "      <td>NA</td>\n",
       "      <td>Missing</td>\n",
       "      <td>Anonymous@gmail.com</td>\n",
       "      <td>NA</td>\n",
       "    </tr>\n",
       "  </tbody>\n",
       "</table>\n",
       "</div>"
      ],
      "text/plain": [
       "    first     last                email age\n",
       "0   Azhar      Ali      Azhar@gmail.com  33\n",
       "1     Ali   Sahito        ali@gmail.com  55\n",
       "2  sahito    Azhar     sahito@gmail.com  63\n",
       "7      NA  Missing  Anonymous@gmail.com  NA"
      ]
     },
     "execution_count": 55,
     "metadata": {},
     "output_type": "execute_result"
    }
   ],
   "source": [
    "df2.dropna(axis='index', how='any')"
   ]
  },
  {
   "cell_type": "code",
   "execution_count": 56,
   "id": "dae3c417",
   "metadata": {},
   "outputs": [
    {
     "data": {
      "text/html": [
       "<div>\n",
       "<style scoped>\n",
       "    .dataframe tbody tr th:only-of-type {\n",
       "        vertical-align: middle;\n",
       "    }\n",
       "\n",
       "    .dataframe tbody tr th {\n",
       "        vertical-align: top;\n",
       "    }\n",
       "\n",
       "    .dataframe thead th {\n",
       "        text-align: right;\n",
       "    }\n",
       "</style>\n",
       "<table border=\"1\" class=\"dataframe\">\n",
       "  <thead>\n",
       "    <tr style=\"text-align: right;\">\n",
       "      <th></th>\n",
       "      <th>first</th>\n",
       "      <th>last</th>\n",
       "      <th>email</th>\n",
       "      <th>age</th>\n",
       "    </tr>\n",
       "  </thead>\n",
       "  <tbody>\n",
       "    <tr>\n",
       "      <th>0</th>\n",
       "      <td>Azhar</td>\n",
       "      <td>Ali</td>\n",
       "      <td>Azhar@gmail.com</td>\n",
       "      <td>33</td>\n",
       "    </tr>\n",
       "    <tr>\n",
       "      <th>1</th>\n",
       "      <td>Ali</td>\n",
       "      <td>Sahito</td>\n",
       "      <td>ali@gmail.com</td>\n",
       "      <td>55</td>\n",
       "    </tr>\n",
       "    <tr>\n",
       "      <th>2</th>\n",
       "      <td>sahito</td>\n",
       "      <td>Azhar</td>\n",
       "      <td>sahito@gmail.com</td>\n",
       "      <td>63</td>\n",
       "    </tr>\n",
       "    <tr>\n",
       "      <th>3</th>\n",
       "      <td>Humza</td>\n",
       "      <td>None</td>\n",
       "      <td>hamza@gmail.com</td>\n",
       "      <td>36</td>\n",
       "    </tr>\n",
       "    <tr>\n",
       "      <th>4</th>\n",
       "      <td>Ahmed</td>\n",
       "      <td>Mari</td>\n",
       "      <td>ahmed@gmail.com</td>\n",
       "      <td>None</td>\n",
       "    </tr>\n",
       "    <tr>\n",
       "      <th>6</th>\n",
       "      <td>None</td>\n",
       "      <td>NaN</td>\n",
       "      <td>NaN</td>\n",
       "      <td>Missing</td>\n",
       "    </tr>\n",
       "    <tr>\n",
       "      <th>7</th>\n",
       "      <td>NA</td>\n",
       "      <td>Missing</td>\n",
       "      <td>Anonymous@gmail.com</td>\n",
       "      <td>NA</td>\n",
       "    </tr>\n",
       "  </tbody>\n",
       "</table>\n",
       "</div>"
      ],
      "text/plain": [
       "    first     last                email      age\n",
       "0   Azhar      Ali      Azhar@gmail.com       33\n",
       "1     Ali   Sahito        ali@gmail.com       55\n",
       "2  sahito    Azhar     sahito@gmail.com       63\n",
       "3   Humza     None      hamza@gmail.com       36\n",
       "4   Ahmed     Mari      ahmed@gmail.com     None\n",
       "6    None      NaN                  NaN  Missing\n",
       "7      NA  Missing  Anonymous@gmail.com       NA"
      ]
     },
     "execution_count": 56,
     "metadata": {},
     "output_type": "execute_result"
    }
   ],
   "source": [
    "df2.dropna(axis='index', how='all') # this also shows rows that has some value"
   ]
  },
  {
   "cell_type": "code",
   "execution_count": 57,
   "id": "0bf1371d",
   "metadata": {},
   "outputs": [
    {
     "data": {
      "text/html": [
       "<div>\n",
       "<style scoped>\n",
       "    .dataframe tbody tr th:only-of-type {\n",
       "        vertical-align: middle;\n",
       "    }\n",
       "\n",
       "    .dataframe tbody tr th {\n",
       "        vertical-align: top;\n",
       "    }\n",
       "\n",
       "    .dataframe thead th {\n",
       "        text-align: right;\n",
       "    }\n",
       "</style>\n",
       "<table border=\"1\" class=\"dataframe\">\n",
       "  <thead>\n",
       "    <tr style=\"text-align: right;\">\n",
       "      <th></th>\n",
       "      <th>first</th>\n",
       "      <th>last</th>\n",
       "      <th>email</th>\n",
       "      <th>age</th>\n",
       "    </tr>\n",
       "  </thead>\n",
       "  <tbody>\n",
       "    <tr>\n",
       "      <th>0</th>\n",
       "      <td>Azhar</td>\n",
       "      <td>Ali</td>\n",
       "      <td>Azhar@gmail.com</td>\n",
       "      <td>33</td>\n",
       "    </tr>\n",
       "    <tr>\n",
       "      <th>1</th>\n",
       "      <td>Ali</td>\n",
       "      <td>Sahito</td>\n",
       "      <td>ali@gmail.com</td>\n",
       "      <td>55</td>\n",
       "    </tr>\n",
       "    <tr>\n",
       "      <th>2</th>\n",
       "      <td>sahito</td>\n",
       "      <td>Azhar</td>\n",
       "      <td>sahito@gmail.com</td>\n",
       "      <td>63</td>\n",
       "    </tr>\n",
       "    <tr>\n",
       "      <th>3</th>\n",
       "      <td>Humza</td>\n",
       "      <td>None</td>\n",
       "      <td>hamza@gmail.com</td>\n",
       "      <td>36</td>\n",
       "    </tr>\n",
       "    <tr>\n",
       "      <th>4</th>\n",
       "      <td>Ahmed</td>\n",
       "      <td>Mari</td>\n",
       "      <td>ahmed@gmail.com</td>\n",
       "      <td>None</td>\n",
       "    </tr>\n",
       "    <tr>\n",
       "      <th>7</th>\n",
       "      <td>NA</td>\n",
       "      <td>Missing</td>\n",
       "      <td>Anonymous@gmail.com</td>\n",
       "      <td>NA</td>\n",
       "    </tr>\n",
       "  </tbody>\n",
       "</table>\n",
       "</div>"
      ],
      "text/plain": [
       "    first     last                email   age\n",
       "0   Azhar      Ali      Azhar@gmail.com    33\n",
       "1     Ali   Sahito        ali@gmail.com    55\n",
       "2  sahito    Azhar     sahito@gmail.com    63\n",
       "3   Humza     None      hamza@gmail.com    36\n",
       "4   Ahmed     Mari      ahmed@gmail.com  None\n",
       "7      NA  Missing  Anonymous@gmail.com    NA"
      ]
     },
     "execution_count": 57,
     "metadata": {},
     "output_type": "execute_result"
    }
   ],
   "source": [
    "df2.dropna(axis='index', how='all', subset=['last','email']) # one value should be there form both"
   ]
  },
  {
   "cell_type": "code",
   "execution_count": 58,
   "id": "929a90ee",
   "metadata": {},
   "outputs": [
    {
     "data": {
      "text/html": [
       "<div>\n",
       "<style scoped>\n",
       "    .dataframe tbody tr th:only-of-type {\n",
       "        vertical-align: middle;\n",
       "    }\n",
       "\n",
       "    .dataframe tbody tr th {\n",
       "        vertical-align: top;\n",
       "    }\n",
       "\n",
       "    .dataframe thead th {\n",
       "        text-align: right;\n",
       "    }\n",
       "</style>\n",
       "<table border=\"1\" class=\"dataframe\">\n",
       "  <thead>\n",
       "    <tr style=\"text-align: right;\">\n",
       "      <th></th>\n",
       "      <th>first</th>\n",
       "      <th>last</th>\n",
       "      <th>email</th>\n",
       "      <th>age</th>\n",
       "    </tr>\n",
       "  </thead>\n",
       "  <tbody>\n",
       "    <tr>\n",
       "      <th>0</th>\n",
       "      <td>Azhar</td>\n",
       "      <td>Ali</td>\n",
       "      <td>Azhar@gmail.com</td>\n",
       "      <td>33</td>\n",
       "    </tr>\n",
       "    <tr>\n",
       "      <th>1</th>\n",
       "      <td>Ali</td>\n",
       "      <td>Sahito</td>\n",
       "      <td>ali@gmail.com</td>\n",
       "      <td>55</td>\n",
       "    </tr>\n",
       "    <tr>\n",
       "      <th>2</th>\n",
       "      <td>sahito</td>\n",
       "      <td>Azhar</td>\n",
       "      <td>sahito@gmail.com</td>\n",
       "      <td>63</td>\n",
       "    </tr>\n",
       "    <tr>\n",
       "      <th>4</th>\n",
       "      <td>Ahmed</td>\n",
       "      <td>Mari</td>\n",
       "      <td>ahmed@gmail.com</td>\n",
       "      <td>None</td>\n",
       "    </tr>\n",
       "    <tr>\n",
       "      <th>7</th>\n",
       "      <td>NA</td>\n",
       "      <td>Missing</td>\n",
       "      <td>Anonymous@gmail.com</td>\n",
       "      <td>NA</td>\n",
       "    </tr>\n",
       "  </tbody>\n",
       "</table>\n",
       "</div>"
      ],
      "text/plain": [
       "    first     last                email   age\n",
       "0   Azhar      Ali      Azhar@gmail.com    33\n",
       "1     Ali   Sahito        ali@gmail.com    55\n",
       "2  sahito    Azhar     sahito@gmail.com    63\n",
       "4   Ahmed     Mari      ahmed@gmail.com  None\n",
       "7      NA  Missing  Anonymous@gmail.com    NA"
      ]
     },
     "execution_count": 58,
     "metadata": {},
     "output_type": "execute_result"
    }
   ],
   "source": [
    "df2.dropna(axis='index', how='any', subset=['last','email']) # Both value should be there"
   ]
  },
  {
   "cell_type": "code",
   "execution_count": 69,
   "id": "84ec02d5",
   "metadata": {},
   "outputs": [
    {
     "data": {
      "text/html": [
       "<div>\n",
       "<style scoped>\n",
       "    .dataframe tbody tr th:only-of-type {\n",
       "        vertical-align: middle;\n",
       "    }\n",
       "\n",
       "    .dataframe tbody tr th {\n",
       "        vertical-align: top;\n",
       "    }\n",
       "\n",
       "    .dataframe thead th {\n",
       "        text-align: right;\n",
       "    }\n",
       "</style>\n",
       "<table border=\"1\" class=\"dataframe\">\n",
       "  <thead>\n",
       "    <tr style=\"text-align: right;\">\n",
       "      <th></th>\n",
       "      <th>first</th>\n",
       "      <th>last</th>\n",
       "      <th>email</th>\n",
       "      <th>age</th>\n",
       "    </tr>\n",
       "  </thead>\n",
       "  <tbody>\n",
       "    <tr>\n",
       "      <th>0</th>\n",
       "      <td>Azhar</td>\n",
       "      <td>Ali</td>\n",
       "      <td>Azhar@gmail.com</td>\n",
       "      <td>33</td>\n",
       "    </tr>\n",
       "    <tr>\n",
       "      <th>1</th>\n",
       "      <td>Ali</td>\n",
       "      <td>Sahito</td>\n",
       "      <td>ali@gmail.com</td>\n",
       "      <td>55</td>\n",
       "    </tr>\n",
       "    <tr>\n",
       "      <th>2</th>\n",
       "      <td>sahito</td>\n",
       "      <td>Azhar</td>\n",
       "      <td>sahito@gmail.com</td>\n",
       "      <td>63</td>\n",
       "    </tr>\n",
       "  </tbody>\n",
       "</table>\n",
       "</div>"
      ],
      "text/plain": [
       "    first    last             email age\n",
       "0   Azhar     Ali   Azhar@gmail.com  33\n",
       "1     Ali  Sahito     ali@gmail.com  55\n",
       "2  sahito   Azhar  sahito@gmail.com  63"
      ]
     },
     "execution_count": 69,
     "metadata": {},
     "output_type": "execute_result"
    }
   ],
   "source": [
    "df2.replace({'NA':np.nan,'Missing': np.nan},inplace=True) # removing custom missing values\n",
    "df2.dropna()"
   ]
  },
  {
   "cell_type": "code",
   "execution_count": 72,
   "id": "2bdf654a",
   "metadata": {},
   "outputs": [
    {
     "data": {
      "text/html": [
       "<div>\n",
       "<style scoped>\n",
       "    .dataframe tbody tr th:only-of-type {\n",
       "        vertical-align: middle;\n",
       "    }\n",
       "\n",
       "    .dataframe tbody tr th {\n",
       "        vertical-align: top;\n",
       "    }\n",
       "\n",
       "    .dataframe thead th {\n",
       "        text-align: right;\n",
       "    }\n",
       "</style>\n",
       "<table border=\"1\" class=\"dataframe\">\n",
       "  <thead>\n",
       "    <tr style=\"text-align: right;\">\n",
       "      <th></th>\n",
       "      <th>first</th>\n",
       "      <th>last</th>\n",
       "      <th>email</th>\n",
       "      <th>age</th>\n",
       "    </tr>\n",
       "  </thead>\n",
       "  <tbody>\n",
       "    <tr>\n",
       "      <th>0</th>\n",
       "      <td>False</td>\n",
       "      <td>False</td>\n",
       "      <td>False</td>\n",
       "      <td>False</td>\n",
       "    </tr>\n",
       "    <tr>\n",
       "      <th>1</th>\n",
       "      <td>False</td>\n",
       "      <td>False</td>\n",
       "      <td>False</td>\n",
       "      <td>False</td>\n",
       "    </tr>\n",
       "    <tr>\n",
       "      <th>2</th>\n",
       "      <td>False</td>\n",
       "      <td>False</td>\n",
       "      <td>False</td>\n",
       "      <td>False</td>\n",
       "    </tr>\n",
       "    <tr>\n",
       "      <th>3</th>\n",
       "      <td>False</td>\n",
       "      <td>True</td>\n",
       "      <td>False</td>\n",
       "      <td>False</td>\n",
       "    </tr>\n",
       "    <tr>\n",
       "      <th>4</th>\n",
       "      <td>False</td>\n",
       "      <td>False</td>\n",
       "      <td>False</td>\n",
       "      <td>True</td>\n",
       "    </tr>\n",
       "    <tr>\n",
       "      <th>5</th>\n",
       "      <td>True</td>\n",
       "      <td>True</td>\n",
       "      <td>True</td>\n",
       "      <td>True</td>\n",
       "    </tr>\n",
       "    <tr>\n",
       "      <th>6</th>\n",
       "      <td>True</td>\n",
       "      <td>True</td>\n",
       "      <td>True</td>\n",
       "      <td>True</td>\n",
       "    </tr>\n",
       "    <tr>\n",
       "      <th>7</th>\n",
       "      <td>True</td>\n",
       "      <td>True</td>\n",
       "      <td>False</td>\n",
       "      <td>True</td>\n",
       "    </tr>\n",
       "  </tbody>\n",
       "</table>\n",
       "</div>"
      ],
      "text/plain": [
       "   first   last  email    age\n",
       "0  False  False  False  False\n",
       "1  False  False  False  False\n",
       "2  False  False  False  False\n",
       "3  False   True  False  False\n",
       "4  False  False  False   True\n",
       "5   True   True   True   True\n",
       "6   True   True   True   True\n",
       "7   True   True  False   True"
      ]
     },
     "execution_count": 72,
     "metadata": {},
     "output_type": "execute_result"
    }
   ],
   "source": [
    "df2.isna() # shows True where is na value "
   ]
  },
  {
   "cell_type": "code",
   "execution_count": 74,
   "id": "759ca401",
   "metadata": {},
   "outputs": [
    {
     "data": {
      "text/html": [
       "<div>\n",
       "<style scoped>\n",
       "    .dataframe tbody tr th:only-of-type {\n",
       "        vertical-align: middle;\n",
       "    }\n",
       "\n",
       "    .dataframe tbody tr th {\n",
       "        vertical-align: top;\n",
       "    }\n",
       "\n",
       "    .dataframe thead th {\n",
       "        text-align: right;\n",
       "    }\n",
       "</style>\n",
       "<table border=\"1\" class=\"dataframe\">\n",
       "  <thead>\n",
       "    <tr style=\"text-align: right;\">\n",
       "      <th></th>\n",
       "      <th>first</th>\n",
       "      <th>last</th>\n",
       "      <th>email</th>\n",
       "      <th>age</th>\n",
       "    </tr>\n",
       "  </thead>\n",
       "  <tbody>\n",
       "    <tr>\n",
       "      <th>0</th>\n",
       "      <td>Azhar</td>\n",
       "      <td>Ali</td>\n",
       "      <td>Azhar@gmail.com</td>\n",
       "      <td>33</td>\n",
       "    </tr>\n",
       "    <tr>\n",
       "      <th>1</th>\n",
       "      <td>Ali</td>\n",
       "      <td>Sahito</td>\n",
       "      <td>ali@gmail.com</td>\n",
       "      <td>55</td>\n",
       "    </tr>\n",
       "    <tr>\n",
       "      <th>2</th>\n",
       "      <td>sahito</td>\n",
       "      <td>Azhar</td>\n",
       "      <td>sahito@gmail.com</td>\n",
       "      <td>63</td>\n",
       "    </tr>\n",
       "    <tr>\n",
       "      <th>3</th>\n",
       "      <td>Humza</td>\n",
       "      <td>0</td>\n",
       "      <td>hamza@gmail.com</td>\n",
       "      <td>36</td>\n",
       "    </tr>\n",
       "    <tr>\n",
       "      <th>4</th>\n",
       "      <td>Ahmed</td>\n",
       "      <td>Mari</td>\n",
       "      <td>ahmed@gmail.com</td>\n",
       "      <td>0</td>\n",
       "    </tr>\n",
       "    <tr>\n",
       "      <th>5</th>\n",
       "      <td>0</td>\n",
       "      <td>0</td>\n",
       "      <td>0</td>\n",
       "      <td>0</td>\n",
       "    </tr>\n",
       "    <tr>\n",
       "      <th>6</th>\n",
       "      <td>0</td>\n",
       "      <td>0</td>\n",
       "      <td>0</td>\n",
       "      <td>0</td>\n",
       "    </tr>\n",
       "    <tr>\n",
       "      <th>7</th>\n",
       "      <td>0</td>\n",
       "      <td>0</td>\n",
       "      <td>Anonymous@gmail.com</td>\n",
       "      <td>0</td>\n",
       "    </tr>\n",
       "  </tbody>\n",
       "</table>\n",
       "</div>"
      ],
      "text/plain": [
       "    first    last                email age\n",
       "0   Azhar     Ali      Azhar@gmail.com  33\n",
       "1     Ali  Sahito        ali@gmail.com  55\n",
       "2  sahito   Azhar     sahito@gmail.com  63\n",
       "3   Humza       0      hamza@gmail.com  36\n",
       "4   Ahmed    Mari      ahmed@gmail.com   0\n",
       "5       0       0                    0   0\n",
       "6       0       0                    0   0\n",
       "7       0       0  Anonymous@gmail.com   0"
      ]
     },
     "execution_count": 74,
     "metadata": {},
     "output_type": "execute_result"
    }
   ],
   "source": [
    "df2.fillna(0) # replacing na values with 0"
   ]
  },
  {
   "cell_type": "code",
   "execution_count": 78,
   "id": "bb4b76e7",
   "metadata": {},
   "outputs": [
    {
     "data": {
      "text/plain": [
       "first    object\n",
       "last     object\n",
       "email    object\n",
       "age      object\n",
       "dtype: object"
      ]
     },
     "execution_count": 78,
     "metadata": {},
     "output_type": "execute_result"
    }
   ],
   "source": [
    "df2.dtypes"
   ]
  },
  {
   "cell_type": "code",
   "execution_count": 82,
   "id": "e82f3656",
   "metadata": {},
   "outputs": [
    {
     "data": {
      "text/plain": [
       "first     object\n",
       "last      object\n",
       "email     object\n",
       "age      float64\n",
       "dtype: object"
      ]
     },
     "execution_count": 82,
     "metadata": {},
     "output_type": "execute_result"
    }
   ],
   "source": [
    "df2['age'] = df2[\"age\"].astype(float) # type casting , na/nan values are float \n",
    "df2.dtypes "
   ]
  },
  {
   "cell_type": "code",
   "execution_count": 87,
   "id": "7bd40865",
   "metadata": {},
   "outputs": [
    {
     "data": {
      "text/plain": [
       "46.75"
      ]
     },
     "execution_count": 87,
     "metadata": {},
     "output_type": "execute_result"
    }
   ],
   "source": [
    "df2['age'].mean() # avgerage age"
   ]
  },
  {
   "cell_type": "code",
   "execution_count": null,
   "id": "c51c1885",
   "metadata": {},
   "outputs": [],
   "source": []
  }
 ],
 "metadata": {
  "kernelspec": {
   "display_name": "Python 3 (ipykernel)",
   "language": "python",
   "name": "python3"
  },
  "language_info": {
   "codemirror_mode": {
    "name": "ipython",
    "version": 3
   },
   "file_extension": ".py",
   "mimetype": "text/x-python",
   "name": "python",
   "nbconvert_exporter": "python",
   "pygments_lexer": "ipython3",
   "version": "3.10.6"
  },
  "widgets": {
   "application/vnd.jupyter.widget-state+json": {
    "state": {},
    "version_major": 2,
    "version_minor": 0
   }
  }
 },
 "nbformat": 4,
 "nbformat_minor": 5
}
