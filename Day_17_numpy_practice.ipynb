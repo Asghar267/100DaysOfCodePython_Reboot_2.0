{
 "cells": [
  {
   "cell_type": "code",
   "execution_count": 2,
   "id": "51a82da4",
   "metadata": {},
   "outputs": [],
   "source": [
    "import numpy as np"
   ]
  },
  {
   "cell_type": "markdown",
   "id": "849e18b0",
   "metadata": {},
   "source": [
    "# Task: Array\n",
    "\n",
    "You are given a space separated list of numbers.\n",
    "Your task is to print a reversed NumPy array with the element type float.\n",
    "\n",
    "**Input Format:** A single line of input containing space separated numbers.\n",
    "\n",
    "**Output Format:** Print the reverse NumPy array with type float.\n",
    "\n",
    "**Sample Input:** 1 2 3 4 -8 -10\n",
    "\n",
    "**Sample Output:** [-10.  -8.   4.   3.   2.   1.]"
   ]
  },
  {
   "cell_type": "code",
   "execution_count": 3,
   "id": "0ed05885",
   "metadata": {},
   "outputs": [
    {
     "name": "stdout",
     "output_type": "stream",
     "text": [
      "1 2 3 4 -8 -10\n",
      "[-10.  -8.   4.   3.   2.   1.]\n"
     ]
    }
   ],
   "source": [
    "def arrays(arr):\n",
    "    arr = np.array(arr,dtype=float)\n",
    "    return np.flip(arr)\n",
    "    \n",
    "\n",
    "arr = input().strip().split(' ')\n",
    "result = arrays(arr)\n",
    "print(result)"
   ]
  },
  {
   "cell_type": "markdown",
   "id": "77d75bc6",
   "metadata": {},
   "source": [
    "# Task: Shape and Reshape\n",
    "\n",
    "The shape tool gives a tuple of array dimensions and can be used to change the dimensions of an array.\n"
   ]
  },
  {
   "cell_type": "code",
   "execution_count": 4,
   "id": "c732a993",
   "metadata": {},
   "outputs": [
    {
     "name": "stdout",
     "output_type": "stream",
     "text": [
      "1 2 3 4 5 6 7 8 9\n",
      "[[1 2 3]\n",
      " [4 5 6]\n",
      " [7 8 9]]\n"
     ]
    }
   ],
   "source": [
    "def arrays(arr):\n",
    "    arr = np.array(arr,dtype=int)\n",
    "    arr = np.reshape(arr,(3,3))\n",
    "    print(arr)    \n",
    "\n",
    "arr = input().strip().split(' ')\n",
    "arrays(arr)\n",
    " "
   ]
  },
  {
   "cell_type": "markdown",
   "id": "522f783d",
   "metadata": {},
   "source": [
    "# Task: Transpose\n",
    "\n",
    "We can generate the transposition of an array using the tool numpy.transpose.\n",
    "It will not affect the original array, but it will create a new array.\n",
    "\n",
    "**Input Format**\n",
    "The first line contains the space separated values of  and .\n",
    "The next  lines contains the space separated elements of  columns.\n",
    "\n",
    "**Output Format:** First, print the transpose array and then print the flatten.\n",
    "\n",
    "**Sample Input**\n",
    "\n",
    "2 2\n",
    "1 2\n",
    "3 4\n",
    "\n",
    "**Sample Output**\n",
    "\n",
    "[[1 3]\n",
    " [2 4]]\n",
    "[1 2 3 4]"
   ]
  },
  {
   "cell_type": "code",
   "execution_count": null,
   "id": "81556211",
   "metadata": {},
   "outputs": [],
   "source": [
    "import numpy as np\n",
    "\n",
    "n, m = map(int, input().split())\n",
    "l = []\n",
    "for _ in range(n):\n",
    "    l.append(list(map(int, input().split())))\n",
    "arr = np.array(l)\n",
    "print(np.transpose(arr))\n",
    "print(arr.flatten())"
   ]
  }
 ],
 "metadata": {
  "kernelspec": {
   "display_name": "Python 3 (ipykernel)",
   "language": "python",
   "name": "python3"
  },
  "language_info": {
   "codemirror_mode": {
    "name": "ipython",
    "version": 3
   },
   "file_extension": ".py",
   "mimetype": "text/x-python",
   "name": "python",
   "nbconvert_exporter": "python",
   "pygments_lexer": "ipython3",
   "version": "3.10.6"
  }
 },
 "nbformat": 4,
 "nbformat_minor": 5
}
